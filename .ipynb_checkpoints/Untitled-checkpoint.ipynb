{
 "cells": [
  {
   "cell_type": "code",
   "execution_count": 1,
   "id": "d73bc466",
   "metadata": {},
   "outputs": [],
   "source": [
    "#Lab | Web Scraping Multiple Pages\n",
    "#Business goal:\n",
    "#Check the case_study_gnod.md file.\n",
    "\n",
    "#Make sure you've understood the big picture of your project:\n",
    "\n",
    "#the goal of the company (Gnod),\n",
    "#their current product (Gnoosic),\n",
    "#their strategy, and\n",
    "#how your project fits into this context.\n",
    "#Re-read the business case and the e-mail from the CTO, take a look at the flowchart and create an initial Trello board with the\n",
    "#tasks you think you'll have to accomplish."
   ]
  },
  {
   "cell_type": "code",
   "execution_count": 2,
   "id": "da5cfd1f",
   "metadata": {},
   "outputs": [],
   "source": [
    "from bs4 import BeautifulSoup\n",
    "import requests\n",
    "import pandas as pd"
   ]
  },
  {
   "cell_type": "code",
   "execution_count": 3,
   "id": "de0821b0",
   "metadata": {},
   "outputs": [],
   "source": [
    "#part I"
   ]
  },
  {
   "cell_type": "code",
   "execution_count": 4,
   "id": "b34c0166",
   "metadata": {},
   "outputs": [
    {
     "data": {
      "text/plain": [
       "200"
      ]
     },
     "execution_count": 4,
     "metadata": {},
     "output_type": "execute_result"
    }
   ],
   "source": [
    "url ='https://en.wikipedia.org/wiki/Python'\n",
    "\n",
    "response = requests.get(url)\n",
    "response.status_code"
   ]
  },
  {
   "cell_type": "code",
   "execution_count": 5,
   "id": "d94fc6ab",
   "metadata": {},
   "outputs": [],
   "source": [
    "soup = BeautifulSoup(response.content, \"html.parser\")\n",
    "#soup"
   ]
  },
  {
   "cell_type": "code",
   "execution_count": 6,
   "id": "d36ff694",
   "metadata": {},
   "outputs": [
    {
     "data": {
      "text/plain": [
       "'/wiki/Main_Page'"
      ]
     },
     "execution_count": 6,
     "metadata": {},
     "output_type": "execute_result"
    }
   ],
   "source": [
    "soup.select('li:nth-child(1) > a')[0]['href']"
   ]
  },
  {
   "cell_type": "code",
   "execution_count": 7,
   "id": "43e72aef",
   "metadata": {},
   "outputs": [],
   "source": [
    "links = []\n",
    "\n",
    "for i in range(len(soup.select('li:nth-child(1) > a'))):\n",
    "    links.append(soup.select('li:nth-child(1) > a')[i]['href'])"
   ]
  },
  {
   "cell_type": "code",
   "execution_count": 8,
   "id": "78a9a3d5",
   "metadata": {},
   "outputs": [
    {
     "data": {
      "text/html": [
       "<div>\n",
       "<style scoped>\n",
       "    .dataframe tbody tr th:only-of-type {\n",
       "        vertical-align: middle;\n",
       "    }\n",
       "\n",
       "    .dataframe tbody tr th {\n",
       "        vertical-align: top;\n",
       "    }\n",
       "\n",
       "    .dataframe thead th {\n",
       "        text-align: right;\n",
       "    }\n",
       "</style>\n",
       "<table border=\"1\" class=\"dataframe\">\n",
       "  <thead>\n",
       "    <tr style=\"text-align: right;\">\n",
       "      <th></th>\n",
       "      <th>list_of_links</th>\n",
       "    </tr>\n",
       "  </thead>\n",
       "  <tbody>\n",
       "    <tr>\n",
       "      <th>0</th>\n",
       "      <td>/wiki/Main_Page</td>\n",
       "    </tr>\n",
       "    <tr>\n",
       "      <th>1</th>\n",
       "      <td>/wiki/Help:Contents</td>\n",
       "    </tr>\n",
       "    <tr>\n",
       "      <th>2</th>\n",
       "      <td>/w/index.php?title=Special:CreateAccount&amp;retur...</td>\n",
       "    </tr>\n",
       "    <tr>\n",
       "      <th>3</th>\n",
       "      <td>/w/index.php?title=Special:CreateAccount&amp;retur...</td>\n",
       "    </tr>\n",
       "    <tr>\n",
       "      <th>4</th>\n",
       "      <td>/wiki/Special:MyContributions</td>\n",
       "    </tr>\n",
       "    <tr>\n",
       "      <th>5</th>\n",
       "      <td>#</td>\n",
       "    </tr>\n",
       "    <tr>\n",
       "      <th>6</th>\n",
       "      <td>https://af.wikipedia.org/wiki/Python</td>\n",
       "    </tr>\n",
       "    <tr>\n",
       "      <th>7</th>\n",
       "      <td>/wiki/Python</td>\n",
       "    </tr>\n",
       "    <tr>\n",
       "      <th>8</th>\n",
       "      <td>/wiki/Python</td>\n",
       "    </tr>\n",
       "    <tr>\n",
       "      <th>9</th>\n",
       "      <td>/wiki/Python</td>\n",
       "    </tr>\n",
       "    <tr>\n",
       "      <th>10</th>\n",
       "      <td>/wiki/Special:WhatLinksHere/Python</td>\n",
       "    </tr>\n",
       "    <tr>\n",
       "      <th>11</th>\n",
       "      <td>/w/index.php?title=Special:DownloadAsPdf&amp;page=...</td>\n",
       "    </tr>\n",
       "    <tr>\n",
       "      <th>12</th>\n",
       "      <td>https://commons.wikimedia.org/wiki/Category:Py...</td>\n",
       "    </tr>\n",
       "    <tr>\n",
       "      <th>13</th>\n",
       "      <td>/wiki/Pythonidae</td>\n",
       "    </tr>\n",
       "    <tr>\n",
       "      <th>14</th>\n",
       "      <td>/wiki/Python_(genus)</td>\n",
       "    </tr>\n",
       "    <tr>\n",
       "      <th>15</th>\n",
       "      <td>/wiki/Python_(programming_language)</td>\n",
       "    </tr>\n",
       "    <tr>\n",
       "      <th>16</th>\n",
       "      <td>/wiki/Python_of_Aenus</td>\n",
       "    </tr>\n",
       "    <tr>\n",
       "      <th>17</th>\n",
       "      <td>/wiki/Python_(Efteling)</td>\n",
       "    </tr>\n",
       "    <tr>\n",
       "      <th>18</th>\n",
       "      <td>/wiki/Python_(automobile_maker)</td>\n",
       "    </tr>\n",
       "    <tr>\n",
       "      <th>19</th>\n",
       "      <td>/wiki/Python_(missile)</td>\n",
       "    </tr>\n",
       "    <tr>\n",
       "      <th>20</th>\n",
       "      <td>/wiki/Python_(codename)</td>\n",
       "    </tr>\n",
       "    <tr>\n",
       "      <th>21</th>\n",
       "      <td>/wiki/Python_(Monty)_Pictures</td>\n",
       "    </tr>\n",
       "    <tr>\n",
       "      <th>22</th>\n",
       "      <td>/wiki/Category:Disambiguation_pages</td>\n",
       "    </tr>\n",
       "    <tr>\n",
       "      <th>23</th>\n",
       "      <td>/wiki/Category:Short_description_is_different_...</td>\n",
       "    </tr>\n",
       "    <tr>\n",
       "      <th>24</th>\n",
       "      <td>https://foundation.wikimedia.org/wiki/Special:...</td>\n",
       "    </tr>\n",
       "    <tr>\n",
       "      <th>25</th>\n",
       "      <td>https://wikimediafoundation.org/</td>\n",
       "    </tr>\n",
       "  </tbody>\n",
       "</table>\n",
       "</div>"
      ],
      "text/plain": [
       "                                        list_of_links\n",
       "0                                     /wiki/Main_Page\n",
       "1                                 /wiki/Help:Contents\n",
       "2   /w/index.php?title=Special:CreateAccount&retur...\n",
       "3   /w/index.php?title=Special:CreateAccount&retur...\n",
       "4                       /wiki/Special:MyContributions\n",
       "5                                                   #\n",
       "6                https://af.wikipedia.org/wiki/Python\n",
       "7                                        /wiki/Python\n",
       "8                                        /wiki/Python\n",
       "9                                        /wiki/Python\n",
       "10                 /wiki/Special:WhatLinksHere/Python\n",
       "11  /w/index.php?title=Special:DownloadAsPdf&page=...\n",
       "12  https://commons.wikimedia.org/wiki/Category:Py...\n",
       "13                                   /wiki/Pythonidae\n",
       "14                               /wiki/Python_(genus)\n",
       "15                /wiki/Python_(programming_language)\n",
       "16                              /wiki/Python_of_Aenus\n",
       "17                            /wiki/Python_(Efteling)\n",
       "18                    /wiki/Python_(automobile_maker)\n",
       "19                             /wiki/Python_(missile)\n",
       "20                            /wiki/Python_(codename)\n",
       "21                      /wiki/Python_(Monty)_Pictures\n",
       "22                /wiki/Category:Disambiguation_pages\n",
       "23  /wiki/Category:Short_description_is_different_...\n",
       "24  https://foundation.wikimedia.org/wiki/Special:...\n",
       "25                   https://wikimediafoundation.org/"
      ]
     },
     "execution_count": 8,
     "metadata": {},
     "output_type": "execute_result"
    }
   ],
   "source": [
    "df = pd.DataFrame({\"list_of_links\":links})\n",
    "df"
   ]
  },
  {
   "cell_type": "code",
   "execution_count": 9,
   "id": "8a8863c4",
   "metadata": {},
   "outputs": [],
   "source": [
    "#2"
   ]
  },
  {
   "cell_type": "code",
   "execution_count": 10,
   "id": "ab806918",
   "metadata": {},
   "outputs": [
    {
     "data": {
      "text/plain": [
       "200"
      ]
     },
     "execution_count": 10,
     "metadata": {},
     "output_type": "execute_result"
    }
   ],
   "source": [
    "url = 'https://www.wikipedia.org/'\n",
    "\n",
    "response = requests.get(url)\n",
    "response.status_code"
   ]
  },
  {
   "cell_type": "code",
   "execution_count": 11,
   "id": "6b85fbf0",
   "metadata": {},
   "outputs": [],
   "source": [
    "soup = BeautifulSoup(response.content, \"html.parser\")\n",
    "#soup"
   ]
  },
  {
   "cell_type": "code",
   "execution_count": 12,
   "id": "1e526c78",
   "metadata": {},
   "outputs": [],
   "source": [
    "languages = []\n",
    "articles = []\n",
    "\n",
    "for i in range(len(soup.select('div.central-featured-lang strong'))):\n",
    "    languages.append(soup.select('div.central-featured-lang strong')[i].get_text())\n",
    "    articles.append(soup.select('div.central-featured-lang small')[i].get_text())"
   ]
  },
  {
   "cell_type": "code",
   "execution_count": 13,
   "id": "1d419262",
   "metadata": {},
   "outputs": [
    {
     "data": {
      "text/html": [
       "<div>\n",
       "<style scoped>\n",
       "    .dataframe tbody tr th:only-of-type {\n",
       "        vertical-align: middle;\n",
       "    }\n",
       "\n",
       "    .dataframe tbody tr th {\n",
       "        vertical-align: top;\n",
       "    }\n",
       "\n",
       "    .dataframe thead th {\n",
       "        text-align: right;\n",
       "    }\n",
       "</style>\n",
       "<table border=\"1\" class=\"dataframe\">\n",
       "  <thead>\n",
       "    <tr style=\"text-align: right;\">\n",
       "      <th></th>\n",
       "      <th>language</th>\n",
       "      <th>number_of_articles</th>\n",
       "    </tr>\n",
       "  </thead>\n",
       "  <tbody>\n",
       "    <tr>\n",
       "      <th>0</th>\n",
       "      <td>English</td>\n",
       "      <td>6 744 000+ articles</td>\n",
       "    </tr>\n",
       "    <tr>\n",
       "      <th>1</th>\n",
       "      <td>Español</td>\n",
       "      <td>1 906 000+ artículos</td>\n",
       "    </tr>\n",
       "    <tr>\n",
       "      <th>2</th>\n",
       "      <td>Русский</td>\n",
       "      <td>1 947 000+ статей</td>\n",
       "    </tr>\n",
       "    <tr>\n",
       "      <th>3</th>\n",
       "      <td>日本語</td>\n",
       "      <td>1 392 000+ 記事</td>\n",
       "    </tr>\n",
       "    <tr>\n",
       "      <th>4</th>\n",
       "      <td>Deutsch</td>\n",
       "      <td>2 852 000+ Artikel</td>\n",
       "    </tr>\n",
       "    <tr>\n",
       "      <th>5</th>\n",
       "      <td>Français</td>\n",
       "      <td>2 567 000+ articles</td>\n",
       "    </tr>\n",
       "    <tr>\n",
       "      <th>6</th>\n",
       "      <td>Italiano</td>\n",
       "      <td>1 835 000+ voci</td>\n",
       "    </tr>\n",
       "    <tr>\n",
       "      <th>7</th>\n",
       "      <td>中文</td>\n",
       "      <td>1 387 000+ 条目 / 條目</td>\n",
       "    </tr>\n",
       "    <tr>\n",
       "      <th>8</th>\n",
       "      <td>العربية</td>\n",
       "      <td>1 221 000+ مقالة</td>\n",
       "    </tr>\n",
       "    <tr>\n",
       "      <th>9</th>\n",
       "      <td>Português</td>\n",
       "      <td>1 113 000+ artigos</td>\n",
       "    </tr>\n",
       "  </tbody>\n",
       "</table>\n",
       "</div>"
      ],
      "text/plain": [
       "    language    number_of_articles\n",
       "0    English   6 744 000+ articles\n",
       "1    Español  1 906 000+ artículos\n",
       "2    Русский     1 947 000+ статей\n",
       "3        日本語         1 392 000+ 記事\n",
       "4    Deutsch    2 852 000+ Artikel\n",
       "5   Français   2 567 000+ articles\n",
       "6   Italiano       1 835 000+ voci\n",
       "7         中文    1 387 000+ 条目 / 條目\n",
       "8    العربية      1 221 000+ مقالة\n",
       "9  Português    1 113 000+ artigos"
      ]
     },
     "execution_count": 13,
     "metadata": {},
     "output_type": "execute_result"
    }
   ],
   "source": [
    "df = pd.DataFrame({\"language\":languages,\n",
    "                       \"number_of_articles\":articles})\n",
    "df"
   ]
  },
  {
   "cell_type": "code",
   "execution_count": 14,
   "id": "13c67aac",
   "metadata": {},
   "outputs": [],
   "source": [
    "#3 "
   ]
  },
  {
   "cell_type": "code",
   "execution_count": 15,
   "id": "0b8f4c35",
   "metadata": {},
   "outputs": [
    {
     "data": {
      "text/plain": [
       "200"
      ]
     },
     "execution_count": 15,
     "metadata": {},
     "output_type": "execute_result"
    }
   ],
   "source": [
    "url = 'https://www.officialcharts.com/charts/afrobeats-chart/'\n",
    "\n",
    "response = requests.get(url)\n",
    "response.status_code"
   ]
  },
  {
   "cell_type": "code",
   "execution_count": 16,
   "id": "9b436fa6",
   "metadata": {},
   "outputs": [],
   "source": [
    "soup = BeautifulSoup(response.content, \"html.parser\")\n",
    "#soup"
   ]
  },
  {
   "cell_type": "code",
   "execution_count": 17,
   "id": "439d7fd0",
   "metadata": {},
   "outputs": [],
   "source": [
    " song_container = soup.find('div', class_='afrobeats-chart-container')"
   ]
  },
  {
   "cell_type": "code",
   "execution_count": 20,
   "id": "88941c10",
   "metadata": {},
   "outputs": [],
   "source": [
    "  if song_container:\n",
    "        # Find all elements containing the song and artist information\n",
    "        songs = song_container.find_all('a', class_='track-title')\n",
    "        artists = song_container.find_all('a', class_='track-artist')"
   ]
  },
  {
   "cell_type": "code",
   "execution_count": 21,
   "id": "1ea8878e",
   "metadata": {},
   "outputs": [
    {
     "ename": "IndentationError",
     "evalue": "unexpected indent (2853979669.py, line 2)",
     "output_type": "error",
     "traceback": [
      "\u001b[1;36m  Cell \u001b[1;32mIn[21], line 2\u001b[1;36m\u001b[0m\n\u001b[1;33m    top_20_artists = [artist.text.strip() for artist in artists[:20]]\u001b[0m\n\u001b[1;37m    ^\u001b[0m\n\u001b[1;31mIndentationError\u001b[0m\u001b[1;31m:\u001b[0m unexpected indent\n"
     ]
    }
   ],
   "source": [
    "  top_20_songs = [song.text.strip() for song in songs[:20]]\n",
    "        top_20_artists = [artist.text.strip() for artist in artists[:20]]"
   ]
  },
  {
   "cell_type": "code",
   "execution_count": null,
   "id": "7e761fd7",
   "metadata": {},
   "outputs": [],
   "source": [
    "        \n",
    "for i, (song, artist) in enumerate(zip(top_20_songs, top_20_artists), start=1):\n",
    "            print(f\"{i}. {song} - {artist}\")\n",
    "\n",
    "    else:\n",
    "        print(\"Couldn't find the song container element.\")\n",
    "\n",
    "else:\n",
    "    print(\"Failed to retrieve the page. Status code:\", response.status_code)"
   ]
  }
 ],
 "metadata": {
  "kernelspec": {
   "display_name": "Python 3 (ipykernel)",
   "language": "python",
   "name": "python3"
  },
  "language_info": {
   "codemirror_mode": {
    "name": "ipython",
    "version": 3
   },
   "file_extension": ".py",
   "mimetype": "text/x-python",
   "name": "python",
   "nbconvert_exporter": "python",
   "pygments_lexer": "ipython3",
   "version": "3.11.4"
  }
 },
 "nbformat": 4,
 "nbformat_minor": 5
}
