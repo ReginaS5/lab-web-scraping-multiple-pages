{
 "cells": [
  {
   "cell_type": "code",
   "execution_count": 1,
   "id": "d73bc466",
   "metadata": {},
   "outputs": [],
   "source": [
    "#Lab | Web Scraping Multiple Pages\n",
    "#Business goal:\n",
    "#Check the case_study_gnod.md file.\n",
    "\n",
    "#Make sure you've understood the big picture of your project:\n",
    "\n",
    "#the goal of the company (Gnod),\n",
    "#their current product (Gnoosic),\n",
    "#their strategy, and\n",
    "#how your project fits into this context.\n",
    "#Re-read the business case and the e-mail from the CTO, take a look at the flowchart and create an initial Trello board with the\n",
    "#tasks you think you'll have to accomplish."
   ]
  },
  {
   "cell_type": "code",
   "execution_count": 2,
   "id": "da5cfd1f",
   "metadata": {},
   "outputs": [],
   "source": [
    "from bs4 import BeautifulSoup\n",
    "import requests\n",
    "import pandas as pd"
   ]
  },
  {
   "cell_type": "code",
   "execution_count": 3,
   "id": "de0821b0",
   "metadata": {},
   "outputs": [],
   "source": [
    "#part I"
   ]
  },
  {
   "cell_type": "code",
   "execution_count": 4,
   "id": "b34c0166",
   "metadata": {},
   "outputs": [
    {
     "data": {
      "text/plain": [
       "200"
      ]
     },
     "execution_count": 4,
     "metadata": {},
     "output_type": "execute_result"
    }
   ],
   "source": [
    "url ='https://en.wikipedia.org/wiki/Python'\n",
    "\n",
    "response = requests.get(url)\n",
    "response.status_code"
   ]
  },
  {
   "cell_type": "code",
   "execution_count": 5,
   "id": "d94fc6ab",
   "metadata": {},
   "outputs": [],
   "source": [
    "soup = BeautifulSoup(response.content, \"html.parser\")\n",
    "#soup"
   ]
  },
  {
   "cell_type": "code",
   "execution_count": 6,
   "id": "d36ff694",
   "metadata": {},
   "outputs": [
    {
     "data": {
      "text/plain": [
       "'/wiki/Main_Page'"
      ]
     },
     "execution_count": 6,
     "metadata": {},
     "output_type": "execute_result"
    }
   ],
   "source": [
    "soup.select('li:nth-child(1) > a')[0]['href']"
   ]
  },
  {
   "cell_type": "code",
   "execution_count": 7,
   "id": "43e72aef",
   "metadata": {},
   "outputs": [],
   "source": [
    "links = []\n",
    "\n",
    "for i in range(len(soup.select('li:nth-child(1) > a'))):\n",
    "    links.append(soup.select('li:nth-child(1) > a')[i]['href'])"
   ]
  },
  {
   "cell_type": "code",
   "execution_count": 8,
   "id": "78a9a3d5",
   "metadata": {},
   "outputs": [
    {
     "data": {
      "text/html": [
       "<div>\n",
       "<style scoped>\n",
       "    .dataframe tbody tr th:only-of-type {\n",
       "        vertical-align: middle;\n",
       "    }\n",
       "\n",
       "    .dataframe tbody tr th {\n",
       "        vertical-align: top;\n",
       "    }\n",
       "\n",
       "    .dataframe thead th {\n",
       "        text-align: right;\n",
       "    }\n",
       "</style>\n",
       "<table border=\"1\" class=\"dataframe\">\n",
       "  <thead>\n",
       "    <tr style=\"text-align: right;\">\n",
       "      <th></th>\n",
       "      <th>list_of_links</th>\n",
       "    </tr>\n",
       "  </thead>\n",
       "  <tbody>\n",
       "    <tr>\n",
       "      <th>0</th>\n",
       "      <td>/wiki/Main_Page</td>\n",
       "    </tr>\n",
       "    <tr>\n",
       "      <th>1</th>\n",
       "      <td>/wiki/Help:Contents</td>\n",
       "    </tr>\n",
       "    <tr>\n",
       "      <th>2</th>\n",
       "      <td>/w/index.php?title=Special:CreateAccount&amp;retur...</td>\n",
       "    </tr>\n",
       "    <tr>\n",
       "      <th>3</th>\n",
       "      <td>/w/index.php?title=Special:CreateAccount&amp;retur...</td>\n",
       "    </tr>\n",
       "    <tr>\n",
       "      <th>4</th>\n",
       "      <td>/wiki/Special:MyContributions</td>\n",
       "    </tr>\n",
       "    <tr>\n",
       "      <th>5</th>\n",
       "      <td>#</td>\n",
       "    </tr>\n",
       "    <tr>\n",
       "      <th>6</th>\n",
       "      <td>https://af.wikipedia.org/wiki/Python</td>\n",
       "    </tr>\n",
       "    <tr>\n",
       "      <th>7</th>\n",
       "      <td>/wiki/Python</td>\n",
       "    </tr>\n",
       "    <tr>\n",
       "      <th>8</th>\n",
       "      <td>/wiki/Python</td>\n",
       "    </tr>\n",
       "    <tr>\n",
       "      <th>9</th>\n",
       "      <td>/wiki/Python</td>\n",
       "    </tr>\n",
       "    <tr>\n",
       "      <th>10</th>\n",
       "      <td>/wiki/Special:WhatLinksHere/Python</td>\n",
       "    </tr>\n",
       "    <tr>\n",
       "      <th>11</th>\n",
       "      <td>/w/index.php?title=Special:DownloadAsPdf&amp;page=...</td>\n",
       "    </tr>\n",
       "    <tr>\n",
       "      <th>12</th>\n",
       "      <td>https://commons.wikimedia.org/wiki/Category:Py...</td>\n",
       "    </tr>\n",
       "    <tr>\n",
       "      <th>13</th>\n",
       "      <td>/wiki/Pythonidae</td>\n",
       "    </tr>\n",
       "    <tr>\n",
       "      <th>14</th>\n",
       "      <td>/wiki/Python_(genus)</td>\n",
       "    </tr>\n",
       "    <tr>\n",
       "      <th>15</th>\n",
       "      <td>/wiki/Python_(programming_language)</td>\n",
       "    </tr>\n",
       "    <tr>\n",
       "      <th>16</th>\n",
       "      <td>/wiki/Python_of_Aenus</td>\n",
       "    </tr>\n",
       "    <tr>\n",
       "      <th>17</th>\n",
       "      <td>/wiki/Python_(Efteling)</td>\n",
       "    </tr>\n",
       "    <tr>\n",
       "      <th>18</th>\n",
       "      <td>/wiki/Python_(automobile_maker)</td>\n",
       "    </tr>\n",
       "    <tr>\n",
       "      <th>19</th>\n",
       "      <td>/wiki/Python_(missile)</td>\n",
       "    </tr>\n",
       "    <tr>\n",
       "      <th>20</th>\n",
       "      <td>/wiki/Python_(codename)</td>\n",
       "    </tr>\n",
       "    <tr>\n",
       "      <th>21</th>\n",
       "      <td>/wiki/Python_(Monty)_Pictures</td>\n",
       "    </tr>\n",
       "    <tr>\n",
       "      <th>22</th>\n",
       "      <td>/wiki/Category:Disambiguation_pages</td>\n",
       "    </tr>\n",
       "    <tr>\n",
       "      <th>23</th>\n",
       "      <td>/wiki/Category:Short_description_is_different_...</td>\n",
       "    </tr>\n",
       "    <tr>\n",
       "      <th>24</th>\n",
       "      <td>https://foundation.wikimedia.org/wiki/Special:...</td>\n",
       "    </tr>\n",
       "    <tr>\n",
       "      <th>25</th>\n",
       "      <td>https://wikimediafoundation.org/</td>\n",
       "    </tr>\n",
       "  </tbody>\n",
       "</table>\n",
       "</div>"
      ],
      "text/plain": [
       "                                        list_of_links\n",
       "0                                     /wiki/Main_Page\n",
       "1                                 /wiki/Help:Contents\n",
       "2   /w/index.php?title=Special:CreateAccount&retur...\n",
       "3   /w/index.php?title=Special:CreateAccount&retur...\n",
       "4                       /wiki/Special:MyContributions\n",
       "5                                                   #\n",
       "6                https://af.wikipedia.org/wiki/Python\n",
       "7                                        /wiki/Python\n",
       "8                                        /wiki/Python\n",
       "9                                        /wiki/Python\n",
       "10                 /wiki/Special:WhatLinksHere/Python\n",
       "11  /w/index.php?title=Special:DownloadAsPdf&page=...\n",
       "12  https://commons.wikimedia.org/wiki/Category:Py...\n",
       "13                                   /wiki/Pythonidae\n",
       "14                               /wiki/Python_(genus)\n",
       "15                /wiki/Python_(programming_language)\n",
       "16                              /wiki/Python_of_Aenus\n",
       "17                            /wiki/Python_(Efteling)\n",
       "18                    /wiki/Python_(automobile_maker)\n",
       "19                             /wiki/Python_(missile)\n",
       "20                            /wiki/Python_(codename)\n",
       "21                      /wiki/Python_(Monty)_Pictures\n",
       "22                /wiki/Category:Disambiguation_pages\n",
       "23  /wiki/Category:Short_description_is_different_...\n",
       "24  https://foundation.wikimedia.org/wiki/Special:...\n",
       "25                   https://wikimediafoundation.org/"
      ]
     },
     "execution_count": 8,
     "metadata": {},
     "output_type": "execute_result"
    }
   ],
   "source": [
    "df = pd.DataFrame({\"list_of_links\":links})\n",
    "df"
   ]
  },
  {
   "cell_type": "code",
   "execution_count": 9,
   "id": "8a8863c4",
   "metadata": {},
   "outputs": [],
   "source": [
    "#2"
   ]
  },
  {
   "cell_type": "code",
   "execution_count": 10,
   "id": "ab806918",
   "metadata": {},
   "outputs": [
    {
     "data": {
      "text/plain": [
       "200"
      ]
     },
     "execution_count": 10,
     "metadata": {},
     "output_type": "execute_result"
    }
   ],
   "source": [
    "url = 'https://www.wikipedia.org/'\n",
    "\n",
    "response = requests.get(url)\n",
    "response.status_code"
   ]
  },
  {
   "cell_type": "code",
   "execution_count": 11,
   "id": "6b85fbf0",
   "metadata": {},
   "outputs": [],
   "source": [
    "soup = BeautifulSoup(response.content, \"html.parser\")\n",
    "#soup"
   ]
  },
  {
   "cell_type": "code",
   "execution_count": 12,
   "id": "1e526c78",
   "metadata": {},
   "outputs": [],
   "source": [
    "languages = []\n",
    "articles = []\n",
    "\n",
    "for i in range(len(soup.select('div.central-featured-lang strong'))):\n",
    "    languages.append(soup.select('div.central-featured-lang strong')[i].get_text())\n",
    "    articles.append(soup.select('div.central-featured-lang small')[i].get_text())"
   ]
  },
  {
   "cell_type": "code",
   "execution_count": 13,
   "id": "1d419262",
   "metadata": {},
   "outputs": [
    {
     "data": {
      "text/html": [
       "<div>\n",
       "<style scoped>\n",
       "    .dataframe tbody tr th:only-of-type {\n",
       "        vertical-align: middle;\n",
       "    }\n",
       "\n",
       "    .dataframe tbody tr th {\n",
       "        vertical-align: top;\n",
       "    }\n",
       "\n",
       "    .dataframe thead th {\n",
       "        text-align: right;\n",
       "    }\n",
       "</style>\n",
       "<table border=\"1\" class=\"dataframe\">\n",
       "  <thead>\n",
       "    <tr style=\"text-align: right;\">\n",
       "      <th></th>\n",
       "      <th>language</th>\n",
       "      <th>number_of_articles</th>\n",
       "    </tr>\n",
       "  </thead>\n",
       "  <tbody>\n",
       "    <tr>\n",
       "      <th>0</th>\n",
       "      <td>English</td>\n",
       "      <td>6 744 000+ articles</td>\n",
       "    </tr>\n",
       "    <tr>\n",
       "      <th>1</th>\n",
       "      <td>Español</td>\n",
       "      <td>1 906 000+ artículos</td>\n",
       "    </tr>\n",
       "    <tr>\n",
       "      <th>2</th>\n",
       "      <td>Русский</td>\n",
       "      <td>1 947 000+ статей</td>\n",
       "    </tr>\n",
       "    <tr>\n",
       "      <th>3</th>\n",
       "      <td>日本語</td>\n",
       "      <td>1 392 000+ 記事</td>\n",
       "    </tr>\n",
       "    <tr>\n",
       "      <th>4</th>\n",
       "      <td>Deutsch</td>\n",
       "      <td>2 852 000+ Artikel</td>\n",
       "    </tr>\n",
       "    <tr>\n",
       "      <th>5</th>\n",
       "      <td>Français</td>\n",
       "      <td>2 567 000+ articles</td>\n",
       "    </tr>\n",
       "    <tr>\n",
       "      <th>6</th>\n",
       "      <td>Italiano</td>\n",
       "      <td>1 835 000+ voci</td>\n",
       "    </tr>\n",
       "    <tr>\n",
       "      <th>7</th>\n",
       "      <td>中文</td>\n",
       "      <td>1 387 000+ 条目 / 條目</td>\n",
       "    </tr>\n",
       "    <tr>\n",
       "      <th>8</th>\n",
       "      <td>العربية</td>\n",
       "      <td>1 221 000+ مقالة</td>\n",
       "    </tr>\n",
       "    <tr>\n",
       "      <th>9</th>\n",
       "      <td>Português</td>\n",
       "      <td>1 113 000+ artigos</td>\n",
       "    </tr>\n",
       "  </tbody>\n",
       "</table>\n",
       "</div>"
      ],
      "text/plain": [
       "    language    number_of_articles\n",
       "0    English   6 744 000+ articles\n",
       "1    Español  1 906 000+ artículos\n",
       "2    Русский     1 947 000+ статей\n",
       "3        日本語         1 392 000+ 記事\n",
       "4    Deutsch    2 852 000+ Artikel\n",
       "5   Français   2 567 000+ articles\n",
       "6   Italiano       1 835 000+ voci\n",
       "7         中文    1 387 000+ 条目 / 條目\n",
       "8    العربية      1 221 000+ مقالة\n",
       "9  Português    1 113 000+ artigos"
      ]
     },
     "execution_count": 13,
     "metadata": {},
     "output_type": "execute_result"
    }
   ],
   "source": [
    "df = pd.DataFrame({\"language\":languages,\n",
    "                       \"number_of_articles\":articles})\n",
    "df"
   ]
  },
  {
   "cell_type": "code",
   "execution_count": 14,
   "id": "13c67aac",
   "metadata": {},
   "outputs": [],
   "source": [
    "#3 "
   ]
  },
  {
   "cell_type": "code",
   "execution_count": 15,
   "id": "0b8f4c35",
   "metadata": {},
   "outputs": [
    {
     "data": {
      "text/plain": [
       "200"
      ]
     },
     "execution_count": 15,
     "metadata": {},
     "output_type": "execute_result"
    }
   ],
   "source": [
    "url = 'https://www.officialcharts.com/charts/afrobeats-chart/'\n",
    "\n",
    "response = requests.get(url)\n",
    "response.status_code"
   ]
  },
  {
   "cell_type": "code",
   "execution_count": 16,
   "id": "9b436fa6",
   "metadata": {},
   "outputs": [],
   "source": [
    "soup = BeautifulSoup(response.content, \"html.parser\")\n",
    "#soup"
   ]
  },
  {
   "cell_type": "code",
   "execution_count": 17,
   "id": "439d7fd0",
   "metadata": {},
   "outputs": [
    {
     "data": {
      "text/plain": [
       "[<div class=\"chart-item-content relative flex w-full\"><div class=\"position\"><span class=\"digits1 chart-key font-bold\"><span class=\"sr-only\">Number </span><strong>1</strong></span><div class=\"chart-image\"><img alt=\"WATER cover art\" class=\"chart-image-small rounded-md shadow-sm\" height=\"80\" loading=\"lazy\" src=\"https://backstage.officialcharts.com/sites/default/files/styles/charted_item_artwork_small/public/2023-07/Tyla%20Water%20single%20artwork.jpeg?itok=U3PUuCyg\" width=\"80\"/><img alt=\"WATER cover art\" class=\"chart-image-large rounded-lg shadow-md absolute md:static w-[210px] 2xs:w-[220px] xs:w-[240px] top-[80px] 3xs:top-[90px] 2xs:top-[85px] xs:top-[105px] md:top-[95px] right-0 sm:right-auto\" height=\"247\" loading=\"lazy\" src=\"https://backstage.officialcharts.com/sites/default/files/styles/charted_item_artwork_medium/public/2023-07/Tyla%20Water%20single%20artwork.jpeg?itok=GKXf9MtQ\" width=\"247\"/><button aria-label=\"Play audio preview\" class=\"audio-play audio-control\" data-progress-half=\"lt50\" title=\"Play\"><audio data-artist=\"TYLA\" data-title=\"WATER\" preload=\"none\" src=\"https://audio-ssl.itunes.apple.com/itunes-assets/AudioPreview116/v4/33/5d/ed/335ded11-49b3-9a7e-63d7-8ad495ccec05/mzaf_6729827213024194854.plus.aac.p.m4a\" type=\"audio/mpeg\"></audio><div class=\"action\"></div><div class=\"progress-wrapper\"><div class=\"progress\"><div class=\"left-side half-circle\"></div><div class=\"right-side half-circle\"></div></div><div class=\"shadow\"></div></div></button></div></div><div class=\"description block\"><p><a class=\"chart-name font-bold inline-block\" href=\"/songs/tyla-water/\"><!-- --><span class=\"movement-icon\"></span><span>WATER</span></a><br/><a class=\"chart-artist text-lg inline-block\" href=\"/artist/tyla/\"><span>TYLA</span></a></p><div class=\"stats\"><ol class=\"text-2xs sm:text-sm\"><li class=\"movement px-2 py-1 rounded-md inline-block mr-1 sm:mr-2\"><!--[--><span title=\"Last week\">LW: <span class=\"text-brand-pink font-bold\">1</span></span><!--]--><span class=\"hidden sm:inline-block\">, </span></li><li class=\"peak px-2 py-1 rounded-md inline-block mr-1 sm:mr-2\">Peak: <span class=\"text-brand-cobalt font-bold\">1</span><span>, </span></li><li class=\"weeks px-2 py-1 rounded-md inline-block mr-1 sm:mr-2\">Weeks: <span class=\"text-brand-pink font-bold\">12</span><!-- --></li><!-- --></ol><button aria-label=\"Read more data about this item\" class=\"more-info self-start relative\"><img alt=\"Read more icon\" class=\"action open\" height=\"40\" src=\"/_nuxt/info.698782dd.svg\" width=\"40\"/><img alt=\"Close read more icon\" class=\"action close\" height=\"40\" src=\"/_nuxt/circle-xmark-regular.4be073a6.svg\" width=\"40\"/><img alt=\"Loading spinner\" class=\"absolute top-0 left-0 animate-spin\" height=\"40\" src=\"/_nuxt/spinner-third-pink.5e3cdee2.svg\" width=\"40\"/></button></div></div></div>,\n",
       " <div class=\"chart-item-content relative flex w-full\"><div class=\"position\"><span class=\"digits1 chart-key font-bold\"><span class=\"sr-only\">Number </span><strong>2</strong></span><div class=\"chart-image\"><img alt=\"CITY BOYS cover art\" class=\"chart-image-small rounded-md shadow-sm\" height=\"80\" loading=\"lazy\" src=\"https://is1-ssl.mzstatic.com/image/thumb/Music116/v4/e9/3e/3e/e93e3e48-6f68-c368-83b4-d15d54fe53c2/075679673787.jpg/80x80bb.jpg\" width=\"80\"/><img alt=\"CITY BOYS cover art\" class=\"chart-image-large rounded-lg shadow-md absolute md:static w-[210px] 2xs:w-[220px] xs:w-[240px] top-[80px] 3xs:top-[90px] 2xs:top-[85px] xs:top-[105px] md:top-[95px] right-0 sm:right-auto\" height=\"247\" loading=\"lazy\" src=\"https://is1-ssl.mzstatic.com/image/thumb/Music116/v4/e9/3e/3e/e93e3e48-6f68-c368-83b4-d15d54fe53c2/075679673787.jpg/247x247bb.jpg\" width=\"247\"/><button aria-label=\"Play audio preview\" class=\"audio-play audio-control\" data-progress-half=\"lt50\" title=\"Play\"><audio data-artist=\"BURNA BOY\" data-title=\"CITY BOYS\" preload=\"none\" src=\"https://audio-ssl.itunes.apple.com/itunes-assets/AudioPreview126/v4/bc/82/b1/bc82b1ad-95f9-1b63-ec99-0b898d8f3e23/mzaf_6399837140423210139.plus.aac.p.m4a\" type=\"audio/mpeg\"></audio><div class=\"action\"></div><div class=\"progress-wrapper\"><div class=\"progress\"><div class=\"left-side half-circle\"></div><div class=\"right-side half-circle\"></div></div><div class=\"shadow\"></div></div></button></div></div><div class=\"description block\"><p><a class=\"chart-name font-bold inline-block\" href=\"/songs/burna-boy-city-boys/\"><!-- --><span class=\"movement-icon\"></span><span>CITY BOYS</span></a><br/><a class=\"chart-artist text-lg inline-block\" href=\"/artist/29059/burna-boy/\"><span>BURNA BOY</span></a></p><div class=\"stats\"><ol class=\"text-2xs sm:text-sm\"><li class=\"movement px-2 py-1 rounded-md inline-block mr-1 sm:mr-2\"><!--[--><span title=\"Last week\">LW: <span class=\"text-brand-pink font-bold\">2</span></span><!--]--><span class=\"hidden sm:inline-block\">, </span></li><li class=\"peak px-2 py-1 rounded-md inline-block mr-1 sm:mr-2\">Peak: <span class=\"text-brand-cobalt font-bold\">1</span><span>, </span></li><li class=\"weeks px-2 py-1 rounded-md inline-block mr-1 sm:mr-2\">Weeks: <span class=\"text-brand-pink font-bold\">12</span><!-- --></li><!-- --></ol><button aria-label=\"Read more data about this item\" class=\"more-info self-start relative\"><img alt=\"Read more icon\" class=\"action open\" height=\"40\" src=\"/_nuxt/info.698782dd.svg\" width=\"40\"/><img alt=\"Close read more icon\" class=\"action close\" height=\"40\" src=\"/_nuxt/circle-xmark-regular.4be073a6.svg\" width=\"40\"/><img alt=\"Loading spinner\" class=\"absolute top-0 left-0 animate-spin\" height=\"40\" src=\"/_nuxt/spinner-third-pink.5e3cdee2.svg\" width=\"40\"/></button></div></div></div>,\n",
       " <div class=\"chart-item-content relative flex w-full\"><div class=\"position\"><span class=\"digits1 chart-key font-bold\"><span class=\"sr-only\">Number </span><strong>3</strong></span><div class=\"chart-image\"><img alt=\"ME &amp; U cover art\" class=\"chart-image-small rounded-md shadow-sm\" height=\"80\" loading=\"lazy\" src=\"https://is1-ssl.mzstatic.com/image/thumb/Music126/v4/f8/21/8a/f8218a85-c9a5-e611-3187-62ee68447ca7/196871461238.jpg/80x80bb.jpg\" width=\"80\"/><img alt=\"ME &amp; U cover art\" class=\"chart-image-large rounded-lg shadow-md absolute md:static w-[210px] 2xs:w-[220px] xs:w-[240px] top-[80px] 3xs:top-[90px] 2xs:top-[85px] xs:top-[105px] md:top-[95px] right-0 sm:right-auto\" height=\"247\" loading=\"lazy\" src=\"https://is1-ssl.mzstatic.com/image/thumb/Music126/v4/f8/21/8a/f8218a85-c9a5-e611-3187-62ee68447ca7/196871461238.jpg/247x247bb.jpg\" width=\"247\"/><button aria-label=\"Play audio preview\" class=\"audio-play audio-control\" data-progress-half=\"lt50\" title=\"Play\"><audio data-artist=\"TEMS\" data-title=\"ME &amp; U\" preload=\"none\" src=\"https://audio-ssl.itunes.apple.com/itunes-assets/AudioPreview116/v4/08/b6/31/08b63133-80a2-13bf-5b2f-72c8ab1444e8/mzaf_5162313738285497796.plus.aac.p.m4a\" type=\"audio/mpeg\"></audio><div class=\"action\"></div><div class=\"progress-wrapper\"><div class=\"progress\"><div class=\"left-side half-circle\"></div><div class=\"right-side half-circle\"></div></div><div class=\"shadow\"></div></div></button></div></div><div class=\"description block\"><p><a class=\"chart-name font-bold inline-block\" href=\"/songs/tems-me-u/\"><!-- --><span class=\"movement-icon\"></span><span>ME &amp; U</span></a><br/><a class=\"chart-artist text-lg inline-block\" href=\"/artist/58660/tems/\"><span>TEMS</span></a></p><div class=\"stats\"><ol class=\"text-2xs sm:text-sm\"><li class=\"movement px-2 py-1 rounded-md inline-block mr-1 sm:mr-2\"><!--[--><span title=\"Last week\">LW: <span class=\"text-brand-pink font-bold\">3</span></span><!--]--><span class=\"hidden sm:inline-block\">, </span></li><li class=\"peak px-2 py-1 rounded-md inline-block mr-1 sm:mr-2\">Peak: <span class=\"text-brand-cobalt font-bold\">3</span><span>, </span></li><li class=\"weeks px-2 py-1 rounded-md inline-block mr-1 sm:mr-2\">Weeks: <span class=\"text-brand-pink font-bold\">6</span><!-- --></li><!-- --></ol><button aria-label=\"Read more data about this item\" class=\"more-info self-start relative\"><img alt=\"Read more icon\" class=\"action open\" height=\"40\" src=\"/_nuxt/info.698782dd.svg\" width=\"40\"/><img alt=\"Close read more icon\" class=\"action close\" height=\"40\" src=\"/_nuxt/circle-xmark-regular.4be073a6.svg\" width=\"40\"/><img alt=\"Loading spinner\" class=\"absolute top-0 left-0 animate-spin\" height=\"40\" src=\"/_nuxt/spinner-third-pink.5e3cdee2.svg\" width=\"40\"/></button></div></div></div>,\n",
       " <div class=\"chart-item-content relative flex w-full\"><div class=\"position\"><span class=\"digits1 chart-key font-bold\"><span class=\"sr-only\">Number </span><strong>4</strong></span><div class=\"chart-image\"><img alt=\"CHEAT ON ME cover art\" class=\"chart-image-small rounded-md shadow-sm\" height=\"80\" loading=\"lazy\" src=\"https://backstage.officialcharts.com/sites/default/files/styles/charted_item_artwork_small/public/2023-08/burna-boy-cheat-on-me-feat-dave.jpg?itok=X268E3tQ\" width=\"80\"/><img alt=\"CHEAT ON ME cover art\" class=\"chart-image-large rounded-lg shadow-md absolute md:static w-[210px] 2xs:w-[220px] xs:w-[240px] top-[80px] 3xs:top-[90px] 2xs:top-[85px] xs:top-[105px] md:top-[95px] right-0 sm:right-auto\" height=\"247\" loading=\"lazy\" src=\"https://backstage.officialcharts.com/sites/default/files/styles/charted_item_artwork_medium/public/2023-08/burna-boy-cheat-on-me-feat-dave.jpg?itok=0LIqYE5R\" width=\"247\"/><button aria-label=\"Play audio preview\" class=\"audio-play audio-control\" data-progress-half=\"lt50\" title=\"Play\"><audio data-artist=\"BURNA BOY FT DAVE\" data-title=\"CHEAT ON ME\" preload=\"none\" src=\"https://audio-ssl.itunes.apple.com/itunes-assets/AudioPreview116/v4/03/a9/a7/03a9a780-3773-b405-b0b8-ce5830559a81/mzaf_6044875188025473717.plus.aac.p.m4a\" type=\"audio/mpeg\"></audio><div class=\"action\"></div><div class=\"progress-wrapper\"><div class=\"progress\"><div class=\"left-side half-circle\"></div><div class=\"right-side half-circle\"></div></div><div class=\"shadow\"></div></div></button></div></div><div class=\"description block\"><p><a class=\"chart-name font-bold inline-block\" href=\"/songs/burna-boy-ft-dave-cheat-on-me/\"><!-- --><span class=\"movement-icon\"></span><span>CHEAT ON ME</span></a><br/><a class=\"chart-artist text-lg inline-block\" href=\"/artist/burna-boy-ft-dave/\"><span>BURNA BOY FT DAVE</span></a></p><div class=\"stats\"><ol class=\"text-2xs sm:text-sm\"><li class=\"movement px-2 py-1 rounded-md inline-block mr-1 sm:mr-2\"><!--[--><span title=\"Last week\">LW: <span class=\"text-brand-pink font-bold\">4</span></span><!--]--><span class=\"hidden sm:inline-block\">, </span></li><li class=\"peak px-2 py-1 rounded-md inline-block mr-1 sm:mr-2\">Peak: <span class=\"text-brand-cobalt font-bold\">1</span><span>, </span></li><li class=\"weeks px-2 py-1 rounded-md inline-block mr-1 sm:mr-2\">Weeks: <span class=\"text-brand-pink font-bold\">12</span><!-- --></li><!-- --></ol><button aria-label=\"Read more data about this item\" class=\"more-info self-start relative\"><img alt=\"Read more icon\" class=\"action open\" height=\"40\" src=\"/_nuxt/info.698782dd.svg\" width=\"40\"/><img alt=\"Close read more icon\" class=\"action close\" height=\"40\" src=\"/_nuxt/circle-xmark-regular.4be073a6.svg\" width=\"40\"/><img alt=\"Loading spinner\" class=\"absolute top-0 left-0 animate-spin\" height=\"40\" src=\"/_nuxt/spinner-third-pink.5e3cdee2.svg\" width=\"40\"/></button></div></div></div>,\n",
       " <div class=\"chart-item-content relative flex w-full\"><div class=\"position\"><span class=\"digits1 chart-key font-bold\"><span class=\"sr-only\">Number </span><strong>5</strong></span><div class=\"chart-image\"><img alt=\"THIS YEAR (BLESSINGS) cover art\" class=\"chart-image-small rounded-md shadow-sm\" height=\"80\" loading=\"lazy\" src=\"https://is1-ssl.mzstatic.com/image/thumb/Music126/v4/d4/da/e0/d4dae0a6-fa38-8208-0e13-f45900071b54/197511411415.jpg/80x80bb.jpg\" width=\"80\"/><img alt=\"THIS YEAR (BLESSINGS) cover art\" class=\"chart-image-large rounded-lg shadow-md absolute md:static w-[210px] 2xs:w-[220px] xs:w-[240px] top-[80px] 3xs:top-[90px] 2xs:top-[85px] xs:top-[105px] md:top-[95px] right-0 sm:right-auto\" height=\"247\" loading=\"lazy\" src=\"https://is1-ssl.mzstatic.com/image/thumb/Music126/v4/d4/da/e0/d4dae0a6-fa38-8208-0e13-f45900071b54/197511411415.jpg/247x247bb.jpg\" width=\"247\"/><button aria-label=\"Play audio preview\" class=\"audio-play audio-control\" data-progress-half=\"lt50\" title=\"Play\"><audio data-artist=\"VICTOR THOMPSON/EHIS DGREATEST\" data-title=\"THIS YEAR (BLESSINGS)\" preload=\"none\" src=\"https://audio-ssl.itunes.apple.com/itunes-assets/AudioPreview126/v4/d1/a6/d2/d1a6d24f-e8a2-11e4-6b2f-01ae59994bc5/mzaf_8914930107321055265.plus.aac.p.m4a\" type=\"audio/mpeg\"></audio><div class=\"action\"></div><div class=\"progress-wrapper\"><div class=\"progress\"><div class=\"left-side half-circle\"></div><div class=\"right-side half-circle\"></div></div><div class=\"shadow\"></div></div></button></div></div><div class=\"description block\"><p><a class=\"chart-name font-bold inline-block\" href=\"/songs/victor-thompsonehis-dgreatest-this-year-blessings/\"><span class=\"movement-icon text-brand-pink new text-xs md:text-sm w-auto !-left-3 uppercase\" title=\"New entry\">New</span><!-- --><span>THIS YEAR (BLESSINGS)</span></a><br/><a class=\"chart-artist text-lg inline-block\" href=\"/artist/victor-thompsonehis-dgreatest/\"><span>VICTOR THOMPSON/<wbr/>EHIS DGREATEST</span></a></p><div class=\"stats\"><ol class=\"text-2xs sm:text-sm\"><li class=\"movement px-2 py-1 rounded-md inline-block mr-1 sm:mr-2\"><span title=\"Last week\">LW: <span class=\"text-brand-pink font-bold\">New</span></span><!-- --></li><li class=\"peak px-2 py-1 rounded-md inline-block mr-1 sm:mr-2\">Peak: <span class=\"text-brand-cobalt font-bold\">5</span><span>, </span></li><li class=\"weeks px-2 py-1 rounded-md inline-block mr-1 sm:mr-2\">Weeks: <span class=\"text-brand-pink font-bold\">1</span><!-- --></li><!-- --></ol><button aria-label=\"Read more data about this item\" class=\"more-info self-start relative\"><img alt=\"Read more icon\" class=\"action open\" height=\"40\" src=\"/_nuxt/info.698782dd.svg\" width=\"40\"/><img alt=\"Close read more icon\" class=\"action close\" height=\"40\" src=\"/_nuxt/circle-xmark-regular.4be073a6.svg\" width=\"40\"/><img alt=\"Loading spinner\" class=\"absolute top-0 left-0 animate-spin\" height=\"40\" src=\"/_nuxt/spinner-third-pink.5e3cdee2.svg\" width=\"40\"/></button></div></div></div>,\n",
       " <div class=\"chart-item-content relative flex w-full\"><div class=\"position\"><span class=\"digits1 chart-key font-bold\"><span class=\"sr-only\">Number </span><strong>6</strong></span><div class=\"chart-image\"><img alt=\"HOLY GHOST cover art\" class=\"chart-image-small rounded-md shadow-sm\" height=\"80\" loading=\"lazy\" src=\"https://is1-ssl.mzstatic.com/image/thumb/Music126/v4/93/e8/88/93e88861-c093-8e4f-019a-c43f7afc5c03/054391356826.jpg/80x80bb.jpg\" width=\"80\"/><img alt=\"HOLY GHOST cover art\" class=\"chart-image-large rounded-lg shadow-md absolute md:static w-[210px] 2xs:w-[220px] xs:w-[240px] top-[80px] 3xs:top-[90px] 2xs:top-[85px] xs:top-[105px] md:top-[95px] right-0 sm:right-auto\" height=\"247\" loading=\"lazy\" src=\"https://is1-ssl.mzstatic.com/image/thumb/Music126/v4/93/e8/88/93e88861-c093-8e4f-019a-c43f7afc5c03/054391356826.jpg/247x247bb.jpg\" width=\"247\"/><button aria-label=\"Play audio preview\" class=\"audio-play audio-control\" data-progress-half=\"lt50\" title=\"Play\"><audio data-artist=\"OMAH LAY\" data-title=\"HOLY GHOST\" preload=\"none\" src=\"https://audio-ssl.itunes.apple.com/itunes-assets/AudioPreview116/v4/09/0a/46/090a461f-1591-bc7a-03be-091195195281/mzaf_117809475143916960.plus.aac.p.m4a\" type=\"audio/mpeg\"></audio><div class=\"action\"></div><div class=\"progress-wrapper\"><div class=\"progress\"><div class=\"left-side half-circle\"></div><div class=\"right-side half-circle\"></div></div><div class=\"shadow\"></div></div></button></div></div><div class=\"description block\"><p><a class=\"chart-name font-bold inline-block\" href=\"/songs/omah-lay-holy-ghost/\"><span class=\"movement-icon text-brand-pink new text-xs md:text-sm w-auto !-left-3 uppercase\" title=\"New entry\">New</span><!-- --><span>HOLY GHOST</span></a><br/><a class=\"chart-artist text-lg inline-block\" href=\"/artist/59239/omah-lay/\"><span>OMAH LAY</span></a></p><div class=\"stats\"><ol class=\"text-2xs sm:text-sm\"><li class=\"movement px-2 py-1 rounded-md inline-block mr-1 sm:mr-2\"><span title=\"Last week\">LW: <span class=\"text-brand-pink font-bold\">New</span></span><!-- --></li><li class=\"peak px-2 py-1 rounded-md inline-block mr-1 sm:mr-2\">Peak: <span class=\"text-brand-cobalt font-bold\">6</span><span>, </span></li><li class=\"weeks px-2 py-1 rounded-md inline-block mr-1 sm:mr-2\">Weeks: <span class=\"text-brand-pink font-bold\">1</span><!-- --></li><!-- --></ol><button aria-label=\"Read more data about this item\" class=\"more-info self-start relative\"><img alt=\"Read more icon\" class=\"action open\" height=\"40\" src=\"/_nuxt/info.698782dd.svg\" width=\"40\"/><img alt=\"Close read more icon\" class=\"action close\" height=\"40\" src=\"/_nuxt/circle-xmark-regular.4be073a6.svg\" width=\"40\"/><img alt=\"Loading spinner\" class=\"absolute top-0 left-0 animate-spin\" height=\"40\" src=\"/_nuxt/spinner-third-pink.5e3cdee2.svg\" width=\"40\"/></button></div></div></div>,\n",
       " <div class=\"chart-item-content relative flex w-full\"><div class=\"position\"><span class=\"digits1 chart-key font-bold\"><span class=\"sr-only\">Number </span><strong>7</strong></span><div class=\"chart-image\"><img alt=\"TONIGHT cover art\" class=\"chart-image-small rounded-md shadow-sm\" height=\"80\" loading=\"lazy\" src=\"https://is1-ssl.mzstatic.com/image/thumb/Music126/v4/df/ce/d3/dfced3c4-cc89-f6d3-f27f-5a9c7a4815b9/197189049774.jpg/80x80bb.jpg\" width=\"80\"/><img alt=\"TONIGHT cover art\" class=\"chart-image-large rounded-lg shadow-md absolute md:static w-[210px] 2xs:w-[220px] xs:w-[240px] top-[80px] 3xs:top-[90px] 2xs:top-[85px] xs:top-[105px] md:top-[95px] right-0 sm:right-auto\" height=\"247\" loading=\"lazy\" src=\"https://is1-ssl.mzstatic.com/image/thumb/Music126/v4/df/ce/d3/dfced3c4-cc89-f6d3-f27f-5a9c7a4815b9/197189049774.jpg/247x247bb.jpg\" width=\"247\"/><button aria-label=\"Play audio preview\" class=\"audio-play audio-control\" data-progress-half=\"lt50\" title=\"Play\"><audio data-artist=\"NSG/LIBIANCA/JAE5\" data-title=\"TONIGHT\" preload=\"none\" src=\"https://audio-ssl.itunes.apple.com/itunes-assets/AudioPreview126/v4/cf/73/d3/cf73d329-0f9c-299f-c4b0-adf0f1234206/mzaf_14903546926026653955.plus.aac.p.m4a\" type=\"audio/mpeg\"></audio><div class=\"action\"></div><div class=\"progress-wrapper\"><div class=\"progress\"><div class=\"left-side half-circle\"></div><div class=\"right-side half-circle\"></div></div><div class=\"shadow\"></div></div></button></div></div><div class=\"description block\"><p><a class=\"chart-name font-bold inline-block\" href=\"/songs/nsglibiancajae5-tonight/\"><!-- --><span class=\"movement-icon movement-down\"></span><span>TONIGHT</span></a><br/><a class=\"chart-artist text-lg inline-block\" href=\"/artist/nsglibiancajae5/\"><span>NSG/<wbr/>LIBIANCA/<wbr/>JAE5</span></a></p><div class=\"stats\"><ol class=\"text-2xs sm:text-sm\"><li class=\"movement px-2 py-1 rounded-md inline-block mr-1 sm:mr-2\"><!--[--><span title=\"Last week\">LW: <span class=\"text-brand-cobalt font-bold\">5</span></span><!--]--><span class=\"hidden sm:inline-block\">, </span></li><li class=\"peak px-2 py-1 rounded-md inline-block mr-1 sm:mr-2\">Peak: <span class=\"text-brand-cobalt font-bold\">5</span><span>, </span></li><li class=\"weeks px-2 py-1 rounded-md inline-block mr-1 sm:mr-2\">Weeks: <span class=\"text-brand-pink font-bold\">4</span><!-- --></li><!-- --></ol><button aria-label=\"Read more data about this item\" class=\"more-info self-start relative\"><img alt=\"Read more icon\" class=\"action open\" height=\"40\" src=\"/_nuxt/info.698782dd.svg\" width=\"40\"/><img alt=\"Close read more icon\" class=\"action close\" height=\"40\" src=\"/_nuxt/circle-xmark-regular.4be073a6.svg\" width=\"40\"/><img alt=\"Loading spinner\" class=\"absolute top-0 left-0 animate-spin\" height=\"40\" src=\"/_nuxt/spinner-third-pink.5e3cdee2.svg\" width=\"40\"/></button></div></div></div>,\n",
       " <div class=\"chart-item-content relative flex w-full\"><div class=\"position\"><span class=\"digits1 chart-key font-bold\"><span class=\"sr-only\">Number </span><strong>8</strong></span><div class=\"chart-image\"><img alt=\"22 cover art\" class=\"chart-image-small rounded-md shadow-sm\" height=\"80\" loading=\"lazy\" src=\"https://is5-ssl.mzstatic.com/image/thumb/Music116/v4/eb/dd/c9/ebddc9f7-e587-f997-1d3e-8cf4d3701cfd/197338910061.jpg/80x80bb.jpg\" width=\"80\"/><img alt=\"22 cover art\" class=\"chart-image-large rounded-lg shadow-md absolute md:static w-[210px] 2xs:w-[220px] xs:w-[240px] top-[80px] 3xs:top-[90px] 2xs:top-[85px] xs:top-[105px] md:top-[95px] right-0 sm:right-auto\" height=\"247\" loading=\"lazy\" src=\"https://is5-ssl.mzstatic.com/image/thumb/Music116/v4/eb/dd/c9/ebddc9f7-e587-f997-1d3e-8cf4d3701cfd/197338910061.jpg/247x247bb.jpg\" width=\"247\"/><button aria-label=\"Play audio preview\" class=\"audio-play audio-control\" data-progress-half=\"lt50\" title=\"Play\"><audio data-artist=\"JAYO\" data-title=\"22\" preload=\"none\" src=\"https://audio-ssl.itunes.apple.com/itunes-assets/AudioPreview116/v4/04/e0/09/04e009db-59be-f0ee-70b0-a88302474364/mzaf_15858907268700493654.plus.aac.p.m4a\" type=\"audio/mpeg\"></audio><div class=\"action\"></div><div class=\"progress-wrapper\"><div class=\"progress\"><div class=\"left-side half-circle\"></div><div class=\"right-side half-circle\"></div></div><div class=\"shadow\"></div></div></button></div></div><div class=\"description block\"><p><a class=\"chart-name font-bold inline-block\" href=\"/songs/jayo-22/\"><span class=\"movement-icon text-brand-pink new text-xs md:text-sm w-auto !-left-3 uppercase\" title=\"New entry\">New</span><!-- --><span>22</span></a><br/><a class=\"chart-artist text-lg inline-block\" href=\"/artist/64238/jayo/\"><span>JAYO</span></a></p><div class=\"stats\"><ol class=\"text-2xs sm:text-sm\"><li class=\"movement px-2 py-1 rounded-md inline-block mr-1 sm:mr-2\"><span title=\"Last week\">LW: <span class=\"text-brand-pink font-bold\">New</span></span><!-- --></li><li class=\"peak px-2 py-1 rounded-md inline-block mr-1 sm:mr-2\">Peak: <span class=\"text-brand-cobalt font-bold\">8</span><span>, </span></li><li class=\"weeks px-2 py-1 rounded-md inline-block mr-1 sm:mr-2\">Weeks: <span class=\"text-brand-pink font-bold\">1</span><!-- --></li><!-- --></ol><button aria-label=\"Read more data about this item\" class=\"more-info self-start relative\"><img alt=\"Read more icon\" class=\"action open\" height=\"40\" src=\"/_nuxt/info.698782dd.svg\" width=\"40\"/><img alt=\"Close read more icon\" class=\"action close\" height=\"40\" src=\"/_nuxt/circle-xmark-regular.4be073a6.svg\" width=\"40\"/><img alt=\"Loading spinner\" class=\"absolute top-0 left-0 animate-spin\" height=\"40\" src=\"/_nuxt/spinner-third-pink.5e3cdee2.svg\" width=\"40\"/></button></div></div></div>,\n",
       " <div class=\"chart-item-content relative flex w-full\"><div class=\"position\"><span class=\"digits1 chart-key font-bold\"><span class=\"sr-only\">Number </span><strong>9</strong></span><div class=\"chart-image\"><img alt=\"DND cover art\" class=\"chart-image-small rounded-md shadow-sm\" height=\"80\" loading=\"lazy\" src=\"https://is1-ssl.mzstatic.com/image/thumb/Music126/v4/dc/82/55/dc8255f8-4d9f-a4b5-8a47-f1ff4cacc560/23SYMIM07985.rgb.jpg/80x80bb.jpg\" width=\"80\"/><img alt=\"DND cover art\" class=\"chart-image-large rounded-lg shadow-md absolute md:static w-[210px] 2xs:w-[220px] xs:w-[240px] top-[80px] 3xs:top-[90px] 2xs:top-[85px] xs:top-[105px] md:top-[95px] right-0 sm:right-auto\" height=\"247\" loading=\"lazy\" src=\"https://is1-ssl.mzstatic.com/image/thumb/Music126/v4/dc/82/55/dc8255f8-4d9f-a4b5-8a47-f1ff4cacc560/23SYMIM07985.rgb.jpg/247x247bb.jpg\" width=\"247\"/><button aria-label=\"Play audio preview\" class=\"audio-play audio-control\" data-progress-half=\"lt50\" title=\"Play\"><audio data-artist=\"REMA\" data-title=\"DND\" preload=\"none\" src=\"https://audio-ssl.itunes.apple.com/itunes-assets/AudioPreview116/v4/d9/51/f5/d951f5c8-bb7f-b847-f219-7f6ba76bc3bb/mzaf_8060266072660875698.plus.aac.p.m4a\" type=\"audio/mpeg\"></audio><div class=\"action\"></div><div class=\"progress-wrapper\"><div class=\"progress\"><div class=\"left-side half-circle\"></div><div class=\"right-side half-circle\"></div></div><div class=\"shadow\"></div></div></button></div></div><div class=\"description block\"><p><a class=\"chart-name font-bold inline-block\" href=\"/songs/rema-dnd/\"><!-- --><span class=\"movement-icon movement-down\"></span><span>DND</span></a><br/><a class=\"chart-artist text-lg inline-block\" href=\"/artist/58181/rema/\"><span>REMA</span></a></p><div class=\"stats\"><ol class=\"text-2xs sm:text-sm\"><li class=\"movement px-2 py-1 rounded-md inline-block mr-1 sm:mr-2\"><!--[--><span title=\"Last week\">LW: <span class=\"text-brand-cobalt font-bold\">8</span></span><!--]--><span class=\"hidden sm:inline-block\">, </span></li><li class=\"peak px-2 py-1 rounded-md inline-block mr-1 sm:mr-2\">Peak: <span class=\"text-brand-cobalt font-bold\">7</span><span>, </span></li><li class=\"weeks px-2 py-1 rounded-md inline-block mr-1 sm:mr-2\">Weeks: <span class=\"text-brand-pink font-bold\">3</span><!-- --></li><!-- --></ol><button aria-label=\"Read more data about this item\" class=\"more-info self-start relative\"><img alt=\"Read more icon\" class=\"action open\" height=\"40\" src=\"/_nuxt/info.698782dd.svg\" width=\"40\"/><img alt=\"Close read more icon\" class=\"action close\" height=\"40\" src=\"/_nuxt/circle-xmark-regular.4be073a6.svg\" width=\"40\"/><img alt=\"Loading spinner\" class=\"absolute top-0 left-0 animate-spin\" height=\"40\" src=\"/_nuxt/spinner-third-pink.5e3cdee2.svg\" width=\"40\"/></button></div></div></div>,\n",
       " <div class=\"chart-item-content relative flex w-full\"><div class=\"position\"><span class=\"digits2 chart-key font-bold\"><span class=\"sr-only\">Number </span><strong>10</strong></span><div class=\"chart-image\"><img alt=\"NGOZI cover art\" class=\"chart-image-small rounded-md shadow-sm\" height=\"80\" loading=\"lazy\" src=\"https://is1-ssl.mzstatic.com/image/thumb/Music126/v4/82/de/3c/82de3c1c-28a3-9c1b-e8d2-496634803e7e/5059449136325.png/80x80bb.jpg\" width=\"80\"/><img alt=\"NGOZI cover art\" class=\"chart-image-large rounded-lg shadow-md absolute md:static w-[210px] 2xs:w-[220px] xs:w-[240px] top-[80px] 3xs:top-[90px] 2xs:top-[85px] xs:top-[105px] md:top-[95px] right-0 sm:right-auto\" height=\"247\" loading=\"lazy\" src=\"https://is1-ssl.mzstatic.com/image/thumb/Music126/v4/82/de/3c/82de3c1c-28a3-9c1b-e8d2-496634803e7e/5059449136325.png/247x247bb.jpg\" width=\"247\"/><button aria-label=\"Play audio preview\" class=\"audio-play audio-control\" data-progress-half=\"lt50\" title=\"Play\"><audio data-artist=\"CRAYON &amp; AYRA STARR\" data-title=\"NGOZI\" preload=\"none\" src=\"https://audio-ssl.itunes.apple.com/itunes-assets/AudioPreview116/v4/55/2c/7c/552c7cf9-9c9e-606e-d770-eb457f884865/mzaf_1604347480493717635.plus.aac.p.m4a\" type=\"audio/mpeg\"></audio><div class=\"action\"></div><div class=\"progress-wrapper\"><div class=\"progress\"><div class=\"left-side half-circle\"></div><div class=\"right-side half-circle\"></div></div><div class=\"shadow\"></div></div></button></div></div><div class=\"description block\"><p><a class=\"chart-name font-bold inline-block\" href=\"/songs/crayon-ayra-starr-ngozi/\"><!-- --><span class=\"movement-icon movement-down\"></span><span>NGOZI</span></a><br/><a class=\"chart-artist text-lg inline-block\" href=\"/artist/crayon-ayra-starr/\"><span>CRAYON &amp; AYRA STARR</span></a></p><div class=\"stats\"><ol class=\"text-2xs sm:text-sm\"><li class=\"movement px-2 py-1 rounded-md inline-block mr-1 sm:mr-2\"><!--[--><span title=\"Last week\">LW: <span class=\"text-brand-cobalt font-bold\">7</span></span><!--]--><span class=\"hidden sm:inline-block\">, </span></li><li class=\"peak px-2 py-1 rounded-md inline-block mr-1 sm:mr-2\">Peak: <span class=\"text-brand-cobalt font-bold\">6</span><span>, </span></li><li class=\"weeks px-2 py-1 rounded-md inline-block mr-1 sm:mr-2\">Weeks: <span class=\"text-brand-pink font-bold\">12</span><!-- --></li><!-- --></ol><button aria-label=\"Read more data about this item\" class=\"more-info self-start relative\"><img alt=\"Read more icon\" class=\"action open\" height=\"40\" src=\"/_nuxt/info.698782dd.svg\" width=\"40\"/><img alt=\"Close read more icon\" class=\"action close\" height=\"40\" src=\"/_nuxt/circle-xmark-regular.4be073a6.svg\" width=\"40\"/><img alt=\"Loading spinner\" class=\"absolute top-0 left-0 animate-spin\" height=\"40\" src=\"/_nuxt/spinner-third-pink.5e3cdee2.svg\" width=\"40\"/></button></div></div></div>,\n",
       " <div class=\"chart-item-content relative flex w-full\"><div class=\"position\"><span class=\"digits2 chart-key font-bold\"><span class=\"sr-only\">Number </span><strong>11</strong></span><div class=\"chart-image\"><img alt=\"DON'T LEAVE cover art\" class=\"chart-image-small rounded-md shadow-sm\" height=\"80\" loading=\"lazy\" src=\"https://is1-ssl.mzstatic.com/image/thumb/Music126/v4/dc/82/55/dc8255f8-4d9f-a4b5-8a47-f1ff4cacc560/23SYMIM07985.rgb.jpg/80x80bb.jpg\" width=\"80\"/><img alt=\"DON'T LEAVE cover art\" class=\"chart-image-large rounded-lg shadow-md absolute md:static w-[210px] 2xs:w-[220px] xs:w-[240px] top-[80px] 3xs:top-[90px] 2xs:top-[85px] xs:top-[105px] md:top-[95px] right-0 sm:right-auto\" height=\"247\" loading=\"lazy\" src=\"https://is1-ssl.mzstatic.com/image/thumb/Music126/v4/dc/82/55/dc8255f8-4d9f-a4b5-8a47-f1ff4cacc560/23SYMIM07985.rgb.jpg/247x247bb.jpg\" width=\"247\"/><button aria-label=\"Play audio preview\" class=\"audio-play audio-control\" data-progress-half=\"lt50\" title=\"Play\"><audio data-artist=\"REMA\" data-title=\"DON'T LEAVE\" preload=\"none\" src=\"https://audio-ssl.itunes.apple.com/itunes-assets/AudioPreview116/v4/f7/e8/f9/f7e8f9c6-7c40-8f83-229b-c275421bc5d2/mzaf_2155532358715114829.plus.aac.p.m4a\" type=\"audio/mpeg\"></audio><div class=\"action\"></div><div class=\"progress-wrapper\"><div class=\"progress\"><div class=\"left-side half-circle\"></div><div class=\"right-side half-circle\"></div></div><div class=\"shadow\"></div></div></button></div></div><div class=\"description block\"><p><a class=\"chart-name font-bold inline-block\" href=\"/songs/rema-dont-leave/\"><!-- --><span class=\"movement-icon movement-down\"></span><span>DON'T LEAVE</span></a><br/><a class=\"chart-artist text-lg inline-block\" href=\"/artist/58181/rema/\"><span>REMA</span></a></p><div class=\"stats\"><ol class=\"text-2xs sm:text-sm\"><li class=\"movement px-2 py-1 rounded-md inline-block mr-1 sm:mr-2\"><!--[--><span title=\"Last week\">LW: <span class=\"text-brand-cobalt font-bold\">6</span></span><!--]--><span class=\"hidden sm:inline-block\">, </span></li><li class=\"peak px-2 py-1 rounded-md inline-block mr-1 sm:mr-2\">Peak: <span class=\"text-brand-cobalt font-bold\">5</span><span>, </span></li><li class=\"weeks px-2 py-1 rounded-md inline-block mr-1 sm:mr-2\">Weeks: <span class=\"text-brand-pink font-bold\">3</span><!-- --></li><!-- --></ol><button aria-label=\"Read more data about this item\" class=\"more-info self-start relative\"><img alt=\"Read more icon\" class=\"action open\" height=\"40\" src=\"/_nuxt/info.698782dd.svg\" width=\"40\"/><img alt=\"Close read more icon\" class=\"action close\" height=\"40\" src=\"/_nuxt/circle-xmark-regular.4be073a6.svg\" width=\"40\"/><img alt=\"Loading spinner\" class=\"absolute top-0 left-0 animate-spin\" height=\"40\" src=\"/_nuxt/spinner-third-pink.5e3cdee2.svg\" width=\"40\"/></button></div></div></div>,\n",
       " <div class=\"chart-item-content relative flex w-full\"><div class=\"position\"><span class=\"digits2 chart-key font-bold\"><span class=\"sr-only\">Number </span><strong>12</strong></span><div class=\"chart-image\"><img alt=\"ANGELS IN TIBET cover art\" class=\"chart-image-small rounded-md shadow-sm\" height=\"80\" loading=\"lazy\" src=\"https://is1-ssl.mzstatic.com/image/thumb/Music126/v4/bc/14/52/bc1452ea-0c1c-6359-fd7d-ff5e380a4bad/23UMGIM43783.rgb.jpg/80x80bb.jpg\" width=\"80\"/><img alt=\"ANGELS IN TIBET cover art\" class=\"chart-image-large rounded-lg shadow-md absolute md:static w-[210px] 2xs:w-[220px] xs:w-[240px] top-[80px] 3xs:top-[90px] 2xs:top-[85px] xs:top-[105px] md:top-[95px] right-0 sm:right-auto\" height=\"247\" loading=\"lazy\" src=\"https://is1-ssl.mzstatic.com/image/thumb/Music126/v4/bc/14/52/bc1452ea-0c1c-6359-fd7d-ff5e380a4bad/23UMGIM43783.rgb.jpg/247x247bb.jpg\" width=\"247\"/><button aria-label=\"Play audio preview\" class=\"audio-play audio-control\" data-progress-half=\"lt50\" title=\"Play\"><audio data-artist=\"AMAARAE\" data-title=\"ANGELS IN TIBET\" preload=\"none\" src=\"https://audio-ssl.itunes.apple.com/itunes-assets/AudioPreview116/v4/f3/36/ea/f336eaf6-621b-e6c3-006e-91d4b8488903/mzaf_4075905823139557245.plus.aac.p.m4a\" type=\"audio/mpeg\"></audio><div class=\"action\"></div><div class=\"progress-wrapper\"><div class=\"progress\"><div class=\"left-side half-circle\"></div><div class=\"right-side half-circle\"></div></div><div class=\"shadow\"></div></div></button></div></div><div class=\"description block\"><p><a class=\"chart-name font-bold inline-block\" href=\"/songs/amaarae-angels-in-tibet/\"><!-- --><span class=\"movement-icon movement-down\"></span><span>ANGELS IN TIBET</span></a><br/><a class=\"chart-artist text-lg inline-block\" href=\"/artist/61750/amaarae/\"><span>AMAARAE</span></a></p><div class=\"stats\"><ol class=\"text-2xs sm:text-sm\"><li class=\"movement px-2 py-1 rounded-md inline-block mr-1 sm:mr-2\"><!--[--><span title=\"Last week\">LW: <span class=\"text-brand-cobalt font-bold\">10</span></span><!--]--><span class=\"hidden sm:inline-block\">, </span></li><li class=\"peak px-2 py-1 rounded-md inline-block mr-1 sm:mr-2\">Peak: <span class=\"text-brand-cobalt font-bold\">10</span><span>, </span></li><li class=\"weeks px-2 py-1 rounded-md inline-block mr-1 sm:mr-2\">Weeks: <span class=\"text-brand-pink font-bold\">5</span><!-- --></li><!-- --></ol><button aria-label=\"Read more data about this item\" class=\"more-info self-start relative\"><img alt=\"Read more icon\" class=\"action open\" height=\"40\" src=\"/_nuxt/info.698782dd.svg\" width=\"40\"/><img alt=\"Close read more icon\" class=\"action close\" height=\"40\" src=\"/_nuxt/circle-xmark-regular.4be073a6.svg\" width=\"40\"/><img alt=\"Loading spinner\" class=\"absolute top-0 left-0 animate-spin\" height=\"40\" src=\"/_nuxt/spinner-third-pink.5e3cdee2.svg\" width=\"40\"/></button></div></div></div>,\n",
       " <div class=\"chart-item-content relative flex w-full\"><div class=\"position\"><span class=\"digits2 chart-key font-bold\"><span class=\"sr-only\">Number </span><strong>13</strong></span><div class=\"chart-image\"><img alt=\"MASSACRE cover art\" class=\"chart-image-small rounded-md shadow-sm\" height=\"80\" loading=\"lazy\" src=\"https://is1-ssl.mzstatic.com/image/thumb/Music116/v4/f1/79/17/f17917b1-3bcb-0cec-2564-35a98b4fc7fa/196871177337.jpg/80x80bb.jpg\" width=\"80\"/><img alt=\"MASSACRE cover art\" class=\"chart-image-large rounded-lg shadow-md absolute md:static w-[210px] 2xs:w-[220px] xs:w-[240px] top-[80px] 3xs:top-[90px] 2xs:top-[85px] xs:top-[105px] md:top-[95px] right-0 sm:right-auto\" height=\"247\" loading=\"lazy\" src=\"https://is1-ssl.mzstatic.com/image/thumb/Music116/v4/f1/79/17/f17917b1-3bcb-0cec-2564-35a98b4fc7fa/196871177337.jpg/247x247bb.jpg\" width=\"247\"/><button aria-label=\"Play audio preview\" class=\"audio-play audio-control\" data-progress-half=\"lt50\" title=\"Play\"><audio data-artist=\"J HUS\" data-title=\"MASSACRE\" preload=\"none\" src=\"https://audio-ssl.itunes.apple.com/itunes-assets/AudioPreview116/v4/a6/90/25/a69025a2-e003-fcfa-d540-7b57e1d3f918/mzaf_213429103858938763.plus.aac.p.m4a\" type=\"audio/mpeg\"></audio><div class=\"action\"></div><div class=\"progress-wrapper\"><div class=\"progress\"><div class=\"left-side half-circle\"></div><div class=\"right-side half-circle\"></div></div><div class=\"shadow\"></div></div></button></div></div><div class=\"description block\"><p><a class=\"chart-name font-bold inline-block\" href=\"/songs/j-hus-massacre/\"><!-- --><span class=\"movement-icon movement-down\"></span><span>MASSACRE</span></a><br/><a class=\"chart-artist text-lg inline-block\" href=\"/artist/48523/j-hus/\"><span>J HUS</span></a></p><div class=\"stats\"><ol class=\"text-2xs sm:text-sm\"><li class=\"movement px-2 py-1 rounded-md inline-block mr-1 sm:mr-2\"><!--[--><span title=\"Last week\">LW: <span class=\"text-brand-cobalt font-bold\">9</span></span><!--]--><span class=\"hidden sm:inline-block\">, </span></li><li class=\"peak px-2 py-1 rounded-md inline-block mr-1 sm:mr-2\">Peak: <span class=\"text-brand-cobalt font-bold\">5</span><span>, </span></li><li class=\"weeks px-2 py-1 rounded-md inline-block mr-1 sm:mr-2\">Weeks: <span class=\"text-brand-pink font-bold\">12</span><!-- --></li><!-- --></ol><button aria-label=\"Read more data about this item\" class=\"more-info self-start relative\"><img alt=\"Read more icon\" class=\"action open\" height=\"40\" src=\"/_nuxt/info.698782dd.svg\" width=\"40\"/><img alt=\"Close read more icon\" class=\"action close\" height=\"40\" src=\"/_nuxt/circle-xmark-regular.4be073a6.svg\" width=\"40\"/><img alt=\"Loading spinner\" class=\"absolute top-0 left-0 animate-spin\" height=\"40\" src=\"/_nuxt/spinner-third-pink.5e3cdee2.svg\" width=\"40\"/></button></div></div></div>,\n",
       " <div class=\"chart-item-content relative flex w-full\"><div class=\"position\"><span class=\"digits2 chart-key font-bold\"><span class=\"sr-only\">Number </span><strong>14</strong></span><div class=\"chart-image\"><img alt=\"BLOOD ON THE DANCE FLOOR cover art\" class=\"chart-image-small rounded-md shadow-sm\" height=\"80\" loading=\"lazy\" src=\"https://is1-ssl.mzstatic.com/image/thumb/Music126/v4/c1/99/17/c1991719-f0c4-3df6-2f40-6fed7cdc53d9/23UM1IM12412.rgb.jpg/80x80bb.jpg\" width=\"80\"/><img alt=\"BLOOD ON THE DANCE FLOOR cover art\" class=\"chart-image-large rounded-lg shadow-md absolute md:static w-[210px] 2xs:w-[220px] xs:w-[240px] top-[80px] 3xs:top-[90px] 2xs:top-[85px] xs:top-[105px] md:top-[95px] right-0 sm:right-auto\" height=\"247\" loading=\"lazy\" src=\"https://is1-ssl.mzstatic.com/image/thumb/Music126/v4/c1/99/17/c1991719-f0c4-3df6-2f40-6fed7cdc53d9/23UM1IM12412.rgb.jpg/247x247bb.jpg\" width=\"247\"/><button aria-label=\"Play audio preview\" class=\"audio-play audio-control\" data-progress-half=\"lt50\" title=\"Play\"><audio data-artist=\"ODUMODUBLVCK/BLOODY CIVILIAN\" data-title=\"BLOOD ON THE DANCE FLOOR\" preload=\"none\" src=\"https://audio-ssl.itunes.apple.com/itunes-assets/AudioPreview126/v4/9a/fc/77/9afc7762-17c5-70bd-38e2-6dc6dba57568/mzaf_7449643368891451239.plus.aac.p.m4a\" type=\"audio/mpeg\"></audio><div class=\"action\"></div><div class=\"progress-wrapper\"><div class=\"progress\"><div class=\"left-side half-circle\"></div><div class=\"right-side half-circle\"></div></div><div class=\"shadow\"></div></div></button></div></div><div class=\"description block\"><p><a class=\"chart-name font-bold inline-block\" href=\"/songs/odumodublvckbloody-civilian-blood-on-the-dance-floor/\"><!-- --><span class=\"movement-icon movement-down\"></span><span>BLOOD ON THE DANCE FLOOR</span></a><br/><a class=\"chart-artist text-lg inline-block\" href=\"/artist/odumodublvckbloody-civilian/\"><span>ODUMODUBLVCK/<wbr/>BLOODY CIVILIAN</span></a></p><div class=\"stats\"><ol class=\"text-2xs sm:text-sm\"><li class=\"movement px-2 py-1 rounded-md inline-block mr-1 sm:mr-2\"><!--[--><span title=\"Last week\">LW: <span class=\"text-brand-cobalt font-bold\">11</span></span><!--]--><span class=\"hidden sm:inline-block\">, </span></li><li class=\"peak px-2 py-1 rounded-md inline-block mr-1 sm:mr-2\">Peak: <span class=\"text-brand-cobalt font-bold\">10</span><span>, </span></li><li class=\"weeks px-2 py-1 rounded-md inline-block mr-1 sm:mr-2\">Weeks: <span class=\"text-brand-pink font-bold\">6</span><!-- --></li><!-- --></ol><button aria-label=\"Read more data about this item\" class=\"more-info self-start relative\"><img alt=\"Read more icon\" class=\"action open\" height=\"40\" src=\"/_nuxt/info.698782dd.svg\" width=\"40\"/><img alt=\"Close read more icon\" class=\"action close\" height=\"40\" src=\"/_nuxt/circle-xmark-regular.4be073a6.svg\" width=\"40\"/><img alt=\"Loading spinner\" class=\"absolute top-0 left-0 animate-spin\" height=\"40\" src=\"/_nuxt/spinner-third-pink.5e3cdee2.svg\" width=\"40\"/></button></div></div></div>,\n",
       " <div class=\"chart-item-content relative flex w-full\"><div class=\"position\"><span class=\"digits2 chart-key font-bold\"><span class=\"sr-only\">Number </span><strong>15</strong></span><div class=\"chart-image\"><img alt=\"OH MY cover art\" class=\"chart-image-small rounded-md shadow-sm\" height=\"80\" loading=\"lazy\" src=\"https://is1-ssl.mzstatic.com/image/thumb/Music116/v4/8f/c9/5b/8fc95b9d-14eb-4ddc-aead-70a3f34ce948/197342403641_cover.jpg/80x80bb.jpg\" width=\"80\"/><img alt=\"OH MY cover art\" class=\"chart-image-large rounded-lg shadow-md absolute md:static w-[210px] 2xs:w-[220px] xs:w-[240px] top-[80px] 3xs:top-[90px] 2xs:top-[85px] xs:top-[105px] md:top-[95px] right-0 sm:right-auto\" height=\"247\" loading=\"lazy\" src=\"https://is1-ssl.mzstatic.com/image/thumb/Music116/v4/8f/c9/5b/8fc95b9d-14eb-4ddc-aead-70a3f34ce948/197342403641_cover.jpg/247x247bb.jpg\" width=\"247\"/><button aria-label=\"Play audio preview\" class=\"audio-play audio-control\" data-progress-half=\"lt50\" title=\"Play\"><audio data-artist=\"FIREBOY DML\" data-title=\"OH MY\" preload=\"none\" src=\"https://audio-ssl.itunes.apple.com/itunes-assets/AudioPreview126/v4/70/c9/a1/70c9a1da-66be-64ea-b708-f819880800b4/mzaf_16148020036509203232.plus.aac.p.m4a\" type=\"audio/mpeg\"></audio><div class=\"action\"></div><div class=\"progress-wrapper\"><div class=\"progress\"><div class=\"left-side half-circle\"></div><div class=\"right-side half-circle\"></div></div><div class=\"shadow\"></div></div></button></div></div><div class=\"description block\"><p><a class=\"chart-name font-bold inline-block\" href=\"/songs/fireboy-dml-oh-my/\"><span class=\"movement-icon text-brand-pink new text-xs md:text-sm w-auto !-left-3 uppercase\" title=\"New entry\">New</span><!-- --><span>OH MY</span></a><br/><a class=\"chart-artist text-lg inline-block\" href=\"/artist/58371/fireboy-dml/\"><span>FIREBOY DML</span></a></p><div class=\"stats\"><ol class=\"text-2xs sm:text-sm\"><li class=\"movement px-2 py-1 rounded-md inline-block mr-1 sm:mr-2\"><span title=\"Last week\">LW: <span class=\"text-brand-pink font-bold\">New</span></span><!-- --></li><li class=\"peak px-2 py-1 rounded-md inline-block mr-1 sm:mr-2\">Peak: <span class=\"text-brand-cobalt font-bold\">15</span><span>, </span></li><li class=\"weeks px-2 py-1 rounded-md inline-block mr-1 sm:mr-2\">Weeks: <span class=\"text-brand-pink font-bold\">1</span><!-- --></li><!-- --></ol><button aria-label=\"Read more data about this item\" class=\"more-info self-start relative\"><img alt=\"Read more icon\" class=\"action open\" height=\"40\" src=\"/_nuxt/info.698782dd.svg\" width=\"40\"/><img alt=\"Close read more icon\" class=\"action close\" height=\"40\" src=\"/_nuxt/circle-xmark-regular.4be073a6.svg\" width=\"40\"/><img alt=\"Loading spinner\" class=\"absolute top-0 left-0 animate-spin\" height=\"40\" src=\"/_nuxt/spinner-third-pink.5e3cdee2.svg\" width=\"40\"/></button></div></div></div>,\n",
       " <div class=\"chart-item-content relative flex w-full\"><div class=\"position\"><span class=\"digits2 chart-key font-bold\"><span class=\"sr-only\">Number </span><strong>16</strong></span><div class=\"chart-image\"><img alt=\"40 DAYS cover art\" class=\"chart-image-small rounded-md shadow-sm\" height=\"80\" loading=\"lazy\" src=\"/fallback/artwork-pink.svg\" width=\"80\"/><img alt=\"40 DAYS cover art\" class=\"chart-image-large rounded-lg shadow-md absolute md:static w-[210px] 2xs:w-[220px] xs:w-[240px] top-[80px] 3xs:top-[90px] 2xs:top-[85px] xs:top-[105px] md:top-[95px] right-0 sm:right-auto\" height=\"247\" loading=\"lazy\" src=\"/fallback/artwork-pink.svg\" width=\"247\"/><!-- --></div></div><div class=\"description block\"><p><a class=\"chart-name font-bold inline-block\" href=\"/songs/tamera-40-days/\"><span class=\"movement-icon text-brand-pink new text-xs md:text-sm w-auto !-left-3 uppercase\" title=\"New entry\">New</span><!-- --><span>40 DAYS</span></a><br/><a class=\"chart-artist text-lg inline-block\" href=\"/artist/tamera/\"><span>TAMERA</span></a></p><div class=\"no-audio stats\"><ol class=\"text-2xs sm:text-sm\"><li class=\"movement px-2 py-1 rounded-md inline-block mr-1 sm:mr-2\"><span title=\"Last week\">LW: <span class=\"text-brand-pink font-bold\">New</span></span><!-- --></li><li class=\"peak px-2 py-1 rounded-md inline-block mr-1 sm:mr-2\">Peak: <span class=\"text-brand-cobalt font-bold\">16</span><span>, </span></li><li class=\"weeks px-2 py-1 rounded-md inline-block mr-1 sm:mr-2\">Weeks: <span class=\"text-brand-pink font-bold\">1</span><!-- --></li><!-- --></ol><button aria-label=\"Read more data about this item\" class=\"more-info self-start relative\"><img alt=\"Read more icon\" class=\"action open\" height=\"40\" src=\"/_nuxt/info.698782dd.svg\" width=\"40\"/><img alt=\"Close read more icon\" class=\"action close\" height=\"40\" src=\"/_nuxt/circle-xmark-regular.4be073a6.svg\" width=\"40\"/><img alt=\"Loading spinner\" class=\"absolute top-0 left-0 animate-spin\" height=\"40\" src=\"/_nuxt/spinner-third-pink.5e3cdee2.svg\" width=\"40\"/></button></div></div></div>,\n",
       " <div class=\"chart-item-content relative flex w-full\"><div class=\"position\"><span class=\"digits2 chart-key font-bold\"><span class=\"sr-only\">Number </span><strong>17</strong></span><div class=\"chart-image\"><img alt=\"RHYTHM &amp; BLUES cover art\" class=\"chart-image-small rounded-md shadow-sm\" height=\"80\" loading=\"lazy\" src=\"https://is1-ssl.mzstatic.com/image/thumb/Music126/v4/6c/93/5a/6c935a01-7cf2-89e7-acd5-6da37ebe883a/23UM1IM04256.rgb.jpg/80x80bb.jpg\" width=\"80\"/><img alt=\"RHYTHM &amp; BLUES cover art\" class=\"chart-image-large rounded-lg shadow-md absolute md:static w-[210px] 2xs:w-[220px] xs:w-[240px] top-[80px] 3xs:top-[90px] 2xs:top-[85px] xs:top-[105px] md:top-[95px] right-0 sm:right-auto\" height=\"247\" loading=\"lazy\" src=\"https://is1-ssl.mzstatic.com/image/thumb/Music126/v4/6c/93/5a/6c935a01-7cf2-89e7-acd5-6da37ebe883a/23UM1IM04256.rgb.jpg/247x247bb.jpg\" width=\"247\"/><button aria-label=\"Play audio preview\" class=\"audio-play audio-control\" data-progress-half=\"lt50\" title=\"Play\"><audio data-artist=\"AYRA STARR\" data-title=\"RHYTHM &amp; BLUES\" preload=\"none\" src=\"https://audio-ssl.itunes.apple.com/itunes-assets/AudioPreview116/v4/50/8b/22/508b2230-a8f7-3e02-d8e6-1ba1446820c5/mzaf_13708470559936732092.plus.aac.p.m4a\" type=\"audio/mpeg\"></audio><div class=\"action\"></div><div class=\"progress-wrapper\"><div class=\"progress\"><div class=\"left-side half-circle\"></div><div class=\"right-side half-circle\"></div></div><div class=\"shadow\"></div></div></button></div></div><div class=\"description block\"><p><a class=\"chart-name font-bold inline-block\" href=\"/songs/ayra-starr-rhythm-blues/\"><!-- --><span class=\"movement-icon movement-down\"></span><span>RHYTHM &amp; BLUES</span></a><br/><a class=\"chart-artist text-lg inline-block\" href=\"/artist/61088/ayra-starr/\"><span>AYRA STARR</span></a></p><div class=\"stats\"><ol class=\"text-2xs sm:text-sm\"><li class=\"movement px-2 py-1 rounded-md inline-block mr-1 sm:mr-2\"><!--[--><span title=\"Last week\">LW: <span class=\"text-brand-cobalt font-bold\">12</span></span><!--]--><span class=\"hidden sm:inline-block\">, </span></li><li class=\"peak px-2 py-1 rounded-md inline-block mr-1 sm:mr-2\">Peak: <span class=\"text-brand-cobalt font-bold\">9</span><span>, </span></li><li class=\"weeks px-2 py-1 rounded-md inline-block mr-1 sm:mr-2\">Weeks: <span class=\"text-brand-pink font-bold\">9</span><!-- --></li><!-- --></ol><button aria-label=\"Read more data about this item\" class=\"more-info self-start relative\"><img alt=\"Read more icon\" class=\"action open\" height=\"40\" src=\"/_nuxt/info.698782dd.svg\" width=\"40\"/><img alt=\"Close read more icon\" class=\"action close\" height=\"40\" src=\"/_nuxt/circle-xmark-regular.4be073a6.svg\" width=\"40\"/><img alt=\"Loading spinner\" class=\"absolute top-0 left-0 animate-spin\" height=\"40\" src=\"/_nuxt/spinner-third-pink.5e3cdee2.svg\" width=\"40\"/></button></div></div></div>,\n",
       " <div class=\"chart-item-content relative flex w-full\"><div class=\"position\"><span class=\"digits2 chart-key font-bold\"><span class=\"sr-only\">Number </span><strong>18</strong></span><div class=\"chart-image\"><img alt=\"NICE BODY cover art\" class=\"chart-image-small rounded-md shadow-sm\" height=\"80\" loading=\"lazy\" src=\"https://is1-ssl.mzstatic.com/image/thumb/Music116/v4/f1/79/17/f17917b1-3bcb-0cec-2564-35a98b4fc7fa/196871177337.jpg/80x80bb.jpg\" width=\"80\"/><img alt=\"NICE BODY cover art\" class=\"chart-image-large rounded-lg shadow-md absolute md:static w-[210px] 2xs:w-[220px] xs:w-[240px] top-[80px] 3xs:top-[90px] 2xs:top-[85px] xs:top-[105px] md:top-[95px] right-0 sm:right-auto\" height=\"247\" loading=\"lazy\" src=\"https://is1-ssl.mzstatic.com/image/thumb/Music116/v4/f1/79/17/f17917b1-3bcb-0cec-2564-35a98b4fc7fa/196871177337.jpg/247x247bb.jpg\" width=\"247\"/><button aria-label=\"Play audio preview\" class=\"audio-play audio-control\" data-progress-half=\"lt50\" title=\"Play\"><audio data-artist=\"J HUS FT JORJA SMITH\" data-title=\"NICE BODY\" preload=\"none\" src=\"https://audio-ssl.itunes.apple.com/itunes-assets/AudioPreview126/v4/2e/e0/74/2ee07415-3431-1b7b-e641-adb6fa6fa517/mzaf_3706325902374229876.plus.aac.p.m4a\" type=\"audio/mpeg\"></audio><div class=\"action\"></div><div class=\"progress-wrapper\"><div class=\"progress\"><div class=\"left-side half-circle\"></div><div class=\"right-side half-circle\"></div></div><div class=\"shadow\"></div></div></button></div></div><div class=\"description block\"><p><a class=\"chart-name font-bold inline-block\" href=\"/songs/j-hus-ft-jorja-smith-nice-body/\"><!-- --><span class=\"movement-icon movement-down\"></span><span>NICE BODY</span></a><br/><a class=\"chart-artist text-lg inline-block\" href=\"/artist/j-hus-ft-jorja-smith/\"><span>J HUS FT JORJA SMITH</span></a></p><div class=\"stats\"><ol class=\"text-2xs sm:text-sm\"><li class=\"movement px-2 py-1 rounded-md inline-block mr-1 sm:mr-2\"><!--[--><span title=\"Last week\">LW: <span class=\"text-brand-cobalt font-bold\">13</span></span><!--]--><span class=\"hidden sm:inline-block\">, </span></li><li class=\"peak px-2 py-1 rounded-md inline-block mr-1 sm:mr-2\">Peak: <span class=\"text-brand-cobalt font-bold\">13</span><span>, </span></li><li class=\"weeks px-2 py-1 rounded-md inline-block mr-1 sm:mr-2\">Weeks: <span class=\"text-brand-pink font-bold\">3</span><!-- --></li><!-- --></ol><button aria-label=\"Read more data about this item\" class=\"more-info self-start relative\"><img alt=\"Read more icon\" class=\"action open\" height=\"40\" src=\"/_nuxt/info.698782dd.svg\" width=\"40\"/><img alt=\"Close read more icon\" class=\"action close\" height=\"40\" src=\"/_nuxt/circle-xmark-regular.4be073a6.svg\" width=\"40\"/><img alt=\"Loading spinner\" class=\"absolute top-0 left-0 animate-spin\" height=\"40\" src=\"/_nuxt/spinner-third-pink.5e3cdee2.svg\" width=\"40\"/></button></div></div></div>,\n",
       " <div class=\"chart-item-content relative flex w-full\"><div class=\"position\"><span class=\"digits2 chart-key font-bold\"><span class=\"sr-only\">Number </span><strong>19</strong></span><div class=\"chart-image\"><img alt=\"MY G cover art\" class=\"chart-image-small rounded-md shadow-sm\" height=\"80\" loading=\"lazy\" src=\"https://is1-ssl.mzstatic.com/image/thumb/Music126/v4/4a/2e/93/4a2e93c1-c8a0-5ab5-8de9-f82e06a9d00b/197342293723_cover.jpg/80x80bb.jpg\" width=\"80\"/><img alt=\"MY G cover art\" class=\"chart-image-large rounded-lg shadow-md absolute md:static w-[210px] 2xs:w-[220px] xs:w-[240px] top-[80px] 3xs:top-[90px] 2xs:top-[85px] xs:top-[105px] md:top-[95px] right-0 sm:right-auto\" height=\"247\" loading=\"lazy\" src=\"https://is1-ssl.mzstatic.com/image/thumb/Music126/v4/4a/2e/93/4a2e93c1-c8a0-5ab5-8de9-f82e06a9d00b/197342293723_cover.jpg/247x247bb.jpg\" width=\"247\"/><button aria-label=\"Play audio preview\" class=\"audio-play audio-control\" data-progress-half=\"lt50\" title=\"Play\"><audio data-artist=\"KIZZ DANIEL\" data-title=\"MY G\" preload=\"none\" src=\"https://audio-ssl.itunes.apple.com/itunes-assets/AudioPreview126/v4/e5/4e/ea/e54eea88-8f29-1c5e-d343-e72de8524a31/mzaf_6780710908880249452.plus.aac.p.m4a\" type=\"audio/mpeg\"></audio><div class=\"action\"></div><div class=\"progress-wrapper\"><div class=\"progress\"><div class=\"left-side half-circle\"></div><div class=\"right-side half-circle\"></div></div><div class=\"shadow\"></div></div></button></div></div><div class=\"description block\"><p><a class=\"chart-name font-bold inline-block\" href=\"/songs/kizz-daniel-my-g/\"><!-- --><span class=\"movement-icon movement-down\"></span><span>MY G</span></a><br/><a class=\"chart-artist text-lg inline-block\" href=\"/artist/60848/kizz-daniel/\"><span>KIZZ DANIEL</span></a></p><div class=\"stats\"><ol class=\"text-2xs sm:text-sm\"><li class=\"movement px-2 py-1 rounded-md inline-block mr-1 sm:mr-2\"><!--[--><span title=\"Last week\">LW: <span class=\"text-brand-cobalt font-bold\">15</span></span><!--]--><span class=\"hidden sm:inline-block\">, </span></li><li class=\"peak px-2 py-1 rounded-md inline-block mr-1 sm:mr-2\">Peak: <span class=\"text-brand-cobalt font-bold\">15</span><span>, </span></li><li class=\"weeks px-2 py-1 rounded-md inline-block mr-1 sm:mr-2\">Weeks: <span class=\"text-brand-pink font-bold\">5</span><!-- --></li><!-- --></ol><button aria-label=\"Read more data about this item\" class=\"more-info self-start relative\"><img alt=\"Read more icon\" class=\"action open\" height=\"40\" src=\"/_nuxt/info.698782dd.svg\" width=\"40\"/><img alt=\"Close read more icon\" class=\"action close\" height=\"40\" src=\"/_nuxt/circle-xmark-regular.4be073a6.svg\" width=\"40\"/><img alt=\"Loading spinner\" class=\"absolute top-0 left-0 animate-spin\" height=\"40\" src=\"/_nuxt/spinner-third-pink.5e3cdee2.svg\" width=\"40\"/></button></div></div></div>,\n",
       " <div class=\"chart-item-content relative flex w-full\"><div class=\"position\"><span class=\"digits2 chart-key font-bold\"><span class=\"sr-only\">Number </span><strong>20</strong></span><div class=\"chart-image\"><img alt=\"BUTTA MY BREAD cover art\" class=\"chart-image-small rounded-md shadow-sm\" height=\"80\" loading=\"lazy\" src=\"https://is1-ssl.mzstatic.com/image/thumb/Music126/v4/57/56/e1/5756e199-1b03-4ffa-f4f9-a26aabe1c06f/23UMGIM62553.rgb.jpg/80x80bb.jpg\" width=\"80\"/><img alt=\"BUTTA MY BREAD cover art\" class=\"chart-image-large rounded-lg shadow-md absolute md:static w-[210px] 2xs:w-[220px] xs:w-[240px] top-[80px] 3xs:top-[90px] 2xs:top-[85px] xs:top-[105px] md:top-[95px] right-0 sm:right-auto\" height=\"247\" loading=\"lazy\" src=\"https://is1-ssl.mzstatic.com/image/thumb/Music126/v4/57/56/e1/5756e199-1b03-4ffa-f4f9-a26aabe1c06f/23UMGIM62553.rgb.jpg/247x247bb.jpg\" width=\"247\"/><button aria-label=\"Play audio preview\" class=\"audio-play audio-control\" data-progress-half=\"lt50\" title=\"Play\"><audio data-artist=\"JZYNO/LASMID\" data-title=\"BUTTA MY BREAD\" preload=\"none\" src=\"https://audio-ssl.itunes.apple.com/itunes-assets/AudioPreview126/v4/b3/d6/e5/b3d6e518-4ed6-3880-1f27-976a2b3e307a/mzaf_8943017958846462575.plus.aac.p.m4a\" type=\"audio/mpeg\"></audio><div class=\"action\"></div><div class=\"progress-wrapper\"><div class=\"progress\"><div class=\"left-side half-circle\"></div><div class=\"right-side half-circle\"></div></div><div class=\"shadow\"></div></div></button></div></div><div class=\"description block\"><p><a class=\"chart-name font-bold inline-block\" href=\"/songs/jzynolasmid-butta-my-bread/\"><span class=\"movement-icon text-brand-pink new text-xs md:text-sm w-auto !-left-3 uppercase\" title=\"New entry\">New</span><!-- --><span>BUTTA MY BREAD</span></a><br/><a class=\"chart-artist text-lg inline-block\" href=\"/artist/jzynolasmid/\"><span>JZYNO/<wbr/>LASMID</span></a></p><div class=\"stats\"><ol class=\"text-2xs sm:text-sm\"><li class=\"movement px-2 py-1 rounded-md inline-block mr-1 sm:mr-2\"><span title=\"Last week\">LW: <span class=\"text-brand-pink font-bold\">New</span></span><!-- --></li><li class=\"peak px-2 py-1 rounded-md inline-block mr-1 sm:mr-2\">Peak: <span class=\"text-brand-cobalt font-bold\">20</span><span>, </span></li><li class=\"weeks px-2 py-1 rounded-md inline-block mr-1 sm:mr-2\">Weeks: <span class=\"text-brand-pink font-bold\">1</span><!-- --></li><!-- --></ol><button aria-label=\"Read more data about this item\" class=\"more-info self-start relative\"><img alt=\"Read more icon\" class=\"action open\" height=\"40\" src=\"/_nuxt/info.698782dd.svg\" width=\"40\"/><img alt=\"Close read more icon\" class=\"action close\" height=\"40\" src=\"/_nuxt/circle-xmark-regular.4be073a6.svg\" width=\"40\"/><img alt=\"Loading spinner\" class=\"absolute top-0 left-0 animate-spin\" height=\"40\" src=\"/_nuxt/spinner-third-pink.5e3cdee2.svg\" width=\"40\"/></button></div></div></div>]"
      ]
     },
     "execution_count": 17,
     "metadata": {},
     "output_type": "execute_result"
    }
   ],
   "source": [
    "cards = soup.find_all('div', class_='chart-item-content')\n",
    "cards"
   ]
  },
  {
   "cell_type": "code",
   "execution_count": 18,
   "id": "88941c10",
   "metadata": {},
   "outputs": [
    {
     "data": {
      "text/plain": [
       "<div class=\"chart-item-content relative flex w-full\"><div class=\"position\"><span class=\"digits1 chart-key font-bold\"><span class=\"sr-only\">Number </span><strong>1</strong></span><div class=\"chart-image\"><img alt=\"WATER cover art\" class=\"chart-image-small rounded-md shadow-sm\" height=\"80\" loading=\"lazy\" src=\"https://backstage.officialcharts.com/sites/default/files/styles/charted_item_artwork_small/public/2023-07/Tyla%20Water%20single%20artwork.jpeg?itok=U3PUuCyg\" width=\"80\"/><img alt=\"WATER cover art\" class=\"chart-image-large rounded-lg shadow-md absolute md:static w-[210px] 2xs:w-[220px] xs:w-[240px] top-[80px] 3xs:top-[90px] 2xs:top-[85px] xs:top-[105px] md:top-[95px] right-0 sm:right-auto\" height=\"247\" loading=\"lazy\" src=\"https://backstage.officialcharts.com/sites/default/files/styles/charted_item_artwork_medium/public/2023-07/Tyla%20Water%20single%20artwork.jpeg?itok=GKXf9MtQ\" width=\"247\"/><button aria-label=\"Play audio preview\" class=\"audio-play audio-control\" data-progress-half=\"lt50\" title=\"Play\"><audio data-artist=\"TYLA\" data-title=\"WATER\" preload=\"none\" src=\"https://audio-ssl.itunes.apple.com/itunes-assets/AudioPreview116/v4/33/5d/ed/335ded11-49b3-9a7e-63d7-8ad495ccec05/mzaf_6729827213024194854.plus.aac.p.m4a\" type=\"audio/mpeg\"></audio><div class=\"action\"></div><div class=\"progress-wrapper\"><div class=\"progress\"><div class=\"left-side half-circle\"></div><div class=\"right-side half-circle\"></div></div><div class=\"shadow\"></div></div></button></div></div><div class=\"description block\"><p><a class=\"chart-name font-bold inline-block\" href=\"/songs/tyla-water/\"><!-- --><span class=\"movement-icon\"></span><span>WATER</span></a><br/><a class=\"chart-artist text-lg inline-block\" href=\"/artist/tyla/\"><span>TYLA</span></a></p><div class=\"stats\"><ol class=\"text-2xs sm:text-sm\"><li class=\"movement px-2 py-1 rounded-md inline-block mr-1 sm:mr-2\"><!--[--><span title=\"Last week\">LW: <span class=\"text-brand-pink font-bold\">1</span></span><!--]--><span class=\"hidden sm:inline-block\">, </span></li><li class=\"peak px-2 py-1 rounded-md inline-block mr-1 sm:mr-2\">Peak: <span class=\"text-brand-cobalt font-bold\">1</span><span>, </span></li><li class=\"weeks px-2 py-1 rounded-md inline-block mr-1 sm:mr-2\">Weeks: <span class=\"text-brand-pink font-bold\">12</span><!-- --></li><!-- --></ol><button aria-label=\"Read more data about this item\" class=\"more-info self-start relative\"><img alt=\"Read more icon\" class=\"action open\" height=\"40\" src=\"/_nuxt/info.698782dd.svg\" width=\"40\"/><img alt=\"Close read more icon\" class=\"action close\" height=\"40\" src=\"/_nuxt/circle-xmark-regular.4be073a6.svg\" width=\"40\"/><img alt=\"Loading spinner\" class=\"absolute top-0 left-0 animate-spin\" height=\"40\" src=\"/_nuxt/spinner-third-pink.5e3cdee2.svg\" width=\"40\"/></button></div></div></div>"
      ]
     },
     "execution_count": 18,
     "metadata": {},
     "output_type": "execute_result"
    }
   ],
   "source": [
    "cards[0]"
   ]
  },
  {
   "cell_type": "code",
   "execution_count": 19,
   "id": "1ea8878e",
   "metadata": {},
   "outputs": [
    {
     "data": {
      "text/plain": [
       "[<audio data-artist=\"TYLA\" data-title=\"WATER\" preload=\"none\" src=\"https://audio-ssl.itunes.apple.com/itunes-assets/AudioPreview116/v4/33/5d/ed/335ded11-49b3-9a7e-63d7-8ad495ccec05/mzaf_6729827213024194854.plus.aac.p.m4a\" type=\"audio/mpeg\"></audio>,\n",
       " <audio data-artist=\"BURNA BOY\" data-title=\"CITY BOYS\" preload=\"none\" src=\"https://audio-ssl.itunes.apple.com/itunes-assets/AudioPreview126/v4/bc/82/b1/bc82b1ad-95f9-1b63-ec99-0b898d8f3e23/mzaf_6399837140423210139.plus.aac.p.m4a\" type=\"audio/mpeg\"></audio>,\n",
       " <audio data-artist=\"TEMS\" data-title=\"ME &amp; U\" preload=\"none\" src=\"https://audio-ssl.itunes.apple.com/itunes-assets/AudioPreview116/v4/08/b6/31/08b63133-80a2-13bf-5b2f-72c8ab1444e8/mzaf_5162313738285497796.plus.aac.p.m4a\" type=\"audio/mpeg\"></audio>,\n",
       " <audio data-artist=\"BURNA BOY FT DAVE\" data-title=\"CHEAT ON ME\" preload=\"none\" src=\"https://audio-ssl.itunes.apple.com/itunes-assets/AudioPreview116/v4/03/a9/a7/03a9a780-3773-b405-b0b8-ce5830559a81/mzaf_6044875188025473717.plus.aac.p.m4a\" type=\"audio/mpeg\"></audio>,\n",
       " <audio data-artist=\"VICTOR THOMPSON/EHIS DGREATEST\" data-title=\"THIS YEAR (BLESSINGS)\" preload=\"none\" src=\"https://audio-ssl.itunes.apple.com/itunes-assets/AudioPreview126/v4/d1/a6/d2/d1a6d24f-e8a2-11e4-6b2f-01ae59994bc5/mzaf_8914930107321055265.plus.aac.p.m4a\" type=\"audio/mpeg\"></audio>,\n",
       " <audio data-artist=\"OMAH LAY\" data-title=\"HOLY GHOST\" preload=\"none\" src=\"https://audio-ssl.itunes.apple.com/itunes-assets/AudioPreview116/v4/09/0a/46/090a461f-1591-bc7a-03be-091195195281/mzaf_117809475143916960.plus.aac.p.m4a\" type=\"audio/mpeg\"></audio>,\n",
       " <audio data-artist=\"NSG/LIBIANCA/JAE5\" data-title=\"TONIGHT\" preload=\"none\" src=\"https://audio-ssl.itunes.apple.com/itunes-assets/AudioPreview126/v4/cf/73/d3/cf73d329-0f9c-299f-c4b0-adf0f1234206/mzaf_14903546926026653955.plus.aac.p.m4a\" type=\"audio/mpeg\"></audio>,\n",
       " <audio data-artist=\"JAYO\" data-title=\"22\" preload=\"none\" src=\"https://audio-ssl.itunes.apple.com/itunes-assets/AudioPreview116/v4/04/e0/09/04e009db-59be-f0ee-70b0-a88302474364/mzaf_15858907268700493654.plus.aac.p.m4a\" type=\"audio/mpeg\"></audio>,\n",
       " <audio data-artist=\"REMA\" data-title=\"DND\" preload=\"none\" src=\"https://audio-ssl.itunes.apple.com/itunes-assets/AudioPreview116/v4/d9/51/f5/d951f5c8-bb7f-b847-f219-7f6ba76bc3bb/mzaf_8060266072660875698.plus.aac.p.m4a\" type=\"audio/mpeg\"></audio>,\n",
       " <audio data-artist=\"CRAYON &amp; AYRA STARR\" data-title=\"NGOZI\" preload=\"none\" src=\"https://audio-ssl.itunes.apple.com/itunes-assets/AudioPreview116/v4/55/2c/7c/552c7cf9-9c9e-606e-d770-eb457f884865/mzaf_1604347480493717635.plus.aac.p.m4a\" type=\"audio/mpeg\"></audio>,\n",
       " <audio data-artist=\"REMA\" data-title=\"DON'T LEAVE\" preload=\"none\" src=\"https://audio-ssl.itunes.apple.com/itunes-assets/AudioPreview116/v4/f7/e8/f9/f7e8f9c6-7c40-8f83-229b-c275421bc5d2/mzaf_2155532358715114829.plus.aac.p.m4a\" type=\"audio/mpeg\"></audio>,\n",
       " <audio data-artist=\"AMAARAE\" data-title=\"ANGELS IN TIBET\" preload=\"none\" src=\"https://audio-ssl.itunes.apple.com/itunes-assets/AudioPreview116/v4/f3/36/ea/f336eaf6-621b-e6c3-006e-91d4b8488903/mzaf_4075905823139557245.plus.aac.p.m4a\" type=\"audio/mpeg\"></audio>,\n",
       " <audio data-artist=\"J HUS\" data-title=\"MASSACRE\" preload=\"none\" src=\"https://audio-ssl.itunes.apple.com/itunes-assets/AudioPreview116/v4/a6/90/25/a69025a2-e003-fcfa-d540-7b57e1d3f918/mzaf_213429103858938763.plus.aac.p.m4a\" type=\"audio/mpeg\"></audio>,\n",
       " <audio data-artist=\"ODUMODUBLVCK/BLOODY CIVILIAN\" data-title=\"BLOOD ON THE DANCE FLOOR\" preload=\"none\" src=\"https://audio-ssl.itunes.apple.com/itunes-assets/AudioPreview126/v4/9a/fc/77/9afc7762-17c5-70bd-38e2-6dc6dba57568/mzaf_7449643368891451239.plus.aac.p.m4a\" type=\"audio/mpeg\"></audio>,\n",
       " <audio data-artist=\"FIREBOY DML\" data-title=\"OH MY\" preload=\"none\" src=\"https://audio-ssl.itunes.apple.com/itunes-assets/AudioPreview126/v4/70/c9/a1/70c9a1da-66be-64ea-b708-f819880800b4/mzaf_16148020036509203232.plus.aac.p.m4a\" type=\"audio/mpeg\"></audio>,\n",
       " <audio data-artist=\"AYRA STARR\" data-title=\"RHYTHM &amp; BLUES\" preload=\"none\" src=\"https://audio-ssl.itunes.apple.com/itunes-assets/AudioPreview116/v4/50/8b/22/508b2230-a8f7-3e02-d8e6-1ba1446820c5/mzaf_13708470559936732092.plus.aac.p.m4a\" type=\"audio/mpeg\"></audio>,\n",
       " <audio data-artist=\"J HUS FT JORJA SMITH\" data-title=\"NICE BODY\" preload=\"none\" src=\"https://audio-ssl.itunes.apple.com/itunes-assets/AudioPreview126/v4/2e/e0/74/2ee07415-3431-1b7b-e641-adb6fa6fa517/mzaf_3706325902374229876.plus.aac.p.m4a\" type=\"audio/mpeg\"></audio>,\n",
       " <audio data-artist=\"KIZZ DANIEL\" data-title=\"MY G\" preload=\"none\" src=\"https://audio-ssl.itunes.apple.com/itunes-assets/AudioPreview126/v4/e5/4e/ea/e54eea88-8f29-1c5e-d343-e72de8524a31/mzaf_6780710908880249452.plus.aac.p.m4a\" type=\"audio/mpeg\"></audio>,\n",
       " <audio data-artist=\"JZYNO/LASMID\" data-title=\"BUTTA MY BREAD\" preload=\"none\" src=\"https://audio-ssl.itunes.apple.com/itunes-assets/AudioPreview126/v4/b3/d6/e5/b3d6e518-4ed6-3880-1f27-976a2b3e307a/mzaf_8943017958846462575.plus.aac.p.m4a\" type=\"audio/mpeg\"></audio>]"
      ]
     },
     "execution_count": 19,
     "metadata": {},
     "output_type": "execute_result"
    }
   ],
   "source": [
    "cards2 = soup.find_all('audio')\n",
    "cards2"
   ]
  },
  {
   "cell_type": "code",
   "execution_count": 20,
   "id": "7e761fd7",
   "metadata": {},
   "outputs": [],
   "source": [
    "artists_list = []\n",
    "songs_list = []\n",
    "for card in cards2:\n",
    "    artist = card.get(\"data-artist\")\n",
    "    song = card.get(\"data-title\")\n",
    "    artists_list.append(artist)\n",
    "    songs_list.append(song)"
   ]
  },
  {
   "cell_type": "code",
   "execution_count": 21,
   "id": "2a140e65",
   "metadata": {},
   "outputs": [
    {
     "name": "stdout",
     "output_type": "stream",
     "text": [
      "['TYLA', 'BURNA BOY', 'TEMS', 'BURNA BOY FT DAVE', 'VICTOR THOMPSON/EHIS DGREATEST', 'OMAH LAY', 'NSG/LIBIANCA/JAE5', 'JAYO', 'REMA', 'CRAYON & AYRA STARR', 'REMA', 'AMAARAE', 'J HUS', 'ODUMODUBLVCK/BLOODY CIVILIAN', 'FIREBOY DML', 'AYRA STARR', 'J HUS FT JORJA SMITH', 'KIZZ DANIEL', 'JZYNO/LASMID']\n"
     ]
    }
   ],
   "source": [
    "print(artists_list)"
   ]
  },
  {
   "cell_type": "code",
   "execution_count": 22,
   "id": "18f13d85",
   "metadata": {},
   "outputs": [
    {
     "name": "stdout",
     "output_type": "stream",
     "text": [
      "['WATER', 'CITY BOYS', 'ME & U', 'CHEAT ON ME', 'THIS YEAR (BLESSINGS)', 'HOLY GHOST', 'TONIGHT', '22', 'DND', 'NGOZI', \"DON'T LEAVE\", 'ANGELS IN TIBET', 'MASSACRE', 'BLOOD ON THE DANCE FLOOR', 'OH MY', 'RHYTHM & BLUES', 'NICE BODY', 'MY G', 'BUTTA MY BREAD']\n"
     ]
    }
   ],
   "source": [
    "print(songs_list)"
   ]
  },
  {
   "cell_type": "code",
   "execution_count": 23,
   "id": "656f591f",
   "metadata": {},
   "outputs": [
    {
     "data": {
      "text/html": [
       "<div>\n",
       "<style scoped>\n",
       "    .dataframe tbody tr th:only-of-type {\n",
       "        vertical-align: middle;\n",
       "    }\n",
       "\n",
       "    .dataframe tbody tr th {\n",
       "        vertical-align: top;\n",
       "    }\n",
       "\n",
       "    .dataframe thead th {\n",
       "        text-align: right;\n",
       "    }\n",
       "</style>\n",
       "<table border=\"1\" class=\"dataframe\">\n",
       "  <thead>\n",
       "    <tr style=\"text-align: right;\">\n",
       "      <th></th>\n",
       "      <th>artist</th>\n",
       "      <th>song_title</th>\n",
       "    </tr>\n",
       "  </thead>\n",
       "  <tbody>\n",
       "    <tr>\n",
       "      <th>0</th>\n",
       "      <td>TYLA</td>\n",
       "      <td>WATER</td>\n",
       "    </tr>\n",
       "    <tr>\n",
       "      <th>1</th>\n",
       "      <td>BURNA BOY</td>\n",
       "      <td>CITY BOYS</td>\n",
       "    </tr>\n",
       "    <tr>\n",
       "      <th>2</th>\n",
       "      <td>TEMS</td>\n",
       "      <td>ME &amp; U</td>\n",
       "    </tr>\n",
       "    <tr>\n",
       "      <th>3</th>\n",
       "      <td>BURNA BOY FT DAVE</td>\n",
       "      <td>CHEAT ON ME</td>\n",
       "    </tr>\n",
       "    <tr>\n",
       "      <th>4</th>\n",
       "      <td>VICTOR THOMPSON/EHIS DGREATEST</td>\n",
       "      <td>THIS YEAR (BLESSINGS)</td>\n",
       "    </tr>\n",
       "    <tr>\n",
       "      <th>5</th>\n",
       "      <td>OMAH LAY</td>\n",
       "      <td>HOLY GHOST</td>\n",
       "    </tr>\n",
       "    <tr>\n",
       "      <th>6</th>\n",
       "      <td>NSG/LIBIANCA/JAE5</td>\n",
       "      <td>TONIGHT</td>\n",
       "    </tr>\n",
       "    <tr>\n",
       "      <th>7</th>\n",
       "      <td>JAYO</td>\n",
       "      <td>22</td>\n",
       "    </tr>\n",
       "    <tr>\n",
       "      <th>8</th>\n",
       "      <td>REMA</td>\n",
       "      <td>DND</td>\n",
       "    </tr>\n",
       "    <tr>\n",
       "      <th>9</th>\n",
       "      <td>CRAYON &amp; AYRA STARR</td>\n",
       "      <td>NGOZI</td>\n",
       "    </tr>\n",
       "    <tr>\n",
       "      <th>10</th>\n",
       "      <td>REMA</td>\n",
       "      <td>DON'T LEAVE</td>\n",
       "    </tr>\n",
       "    <tr>\n",
       "      <th>11</th>\n",
       "      <td>AMAARAE</td>\n",
       "      <td>ANGELS IN TIBET</td>\n",
       "    </tr>\n",
       "    <tr>\n",
       "      <th>12</th>\n",
       "      <td>J HUS</td>\n",
       "      <td>MASSACRE</td>\n",
       "    </tr>\n",
       "    <tr>\n",
       "      <th>13</th>\n",
       "      <td>ODUMODUBLVCK/BLOODY CIVILIAN</td>\n",
       "      <td>BLOOD ON THE DANCE FLOOR</td>\n",
       "    </tr>\n",
       "    <tr>\n",
       "      <th>14</th>\n",
       "      <td>FIREBOY DML</td>\n",
       "      <td>OH MY</td>\n",
       "    </tr>\n",
       "    <tr>\n",
       "      <th>15</th>\n",
       "      <td>AYRA STARR</td>\n",
       "      <td>RHYTHM &amp; BLUES</td>\n",
       "    </tr>\n",
       "    <tr>\n",
       "      <th>16</th>\n",
       "      <td>J HUS FT JORJA SMITH</td>\n",
       "      <td>NICE BODY</td>\n",
       "    </tr>\n",
       "    <tr>\n",
       "      <th>17</th>\n",
       "      <td>KIZZ DANIEL</td>\n",
       "      <td>MY G</td>\n",
       "    </tr>\n",
       "    <tr>\n",
       "      <th>18</th>\n",
       "      <td>JZYNO/LASMID</td>\n",
       "      <td>BUTTA MY BREAD</td>\n",
       "    </tr>\n",
       "  </tbody>\n",
       "</table>\n",
       "</div>"
      ],
      "text/plain": [
       "                            artist                song_title\n",
       "0                             TYLA                     WATER\n",
       "1                        BURNA BOY                 CITY BOYS\n",
       "2                             TEMS                    ME & U\n",
       "3                BURNA BOY FT DAVE               CHEAT ON ME\n",
       "4   VICTOR THOMPSON/EHIS DGREATEST     THIS YEAR (BLESSINGS)\n",
       "5                         OMAH LAY                HOLY GHOST\n",
       "6                NSG/LIBIANCA/JAE5                   TONIGHT\n",
       "7                             JAYO                        22\n",
       "8                             REMA                       DND\n",
       "9              CRAYON & AYRA STARR                     NGOZI\n",
       "10                            REMA               DON'T LEAVE\n",
       "11                         AMAARAE           ANGELS IN TIBET\n",
       "12                           J HUS                  MASSACRE\n",
       "13    ODUMODUBLVCK/BLOODY CIVILIAN  BLOOD ON THE DANCE FLOOR\n",
       "14                     FIREBOY DML                     OH MY\n",
       "15                      AYRA STARR            RHYTHM & BLUES\n",
       "16            J HUS FT JORJA SMITH                 NICE BODY\n",
       "17                     KIZZ DANIEL                      MY G\n",
       "18                    JZYNO/LASMID            BUTTA MY BREAD"
      ]
     },
     "execution_count": 23,
     "metadata": {},
     "output_type": "execute_result"
    }
   ],
   "source": [
    "#And I create a dataframe with both lists: https://www.geeksforgeeks.org/create-a-pandas-dataframe-from-lists/\n",
    "df_afrobeats = pd.DataFrame(zip(artists_list, songs_list), columns=['artist', 'song_title'])\n",
    "df_afrobeats"
   ]
  },
  {
   "cell_type": "code",
   "execution_count": 24,
   "id": "69ef9f65",
   "metadata": {},
   "outputs": [
    {
     "data": {
      "text/plain": [
       "\"\\nBut we have a problem: We check against the webpage and see we are getting 19 results instead of 10. Why? \\nTurns out that number 16: 40 Days by Tamera doesn't have an audio element!\\nSo we need to go back to our website and try another element/class combination\\n\""
      ]
     },
     "execution_count": 24,
     "metadata": {},
     "output_type": "execute_result"
    }
   ],
   "source": [
    "'''\n",
    "But we have a problem: We check against the webpage and see we are getting 19 results instead of 10. Why? \n",
    "Turns out that number 16: 40 Days by Tamera doesn't have an audio element!\n",
    "So we need to go back to our website and try another element/class combination\n",
    "'''"
   ]
  },
  {
   "cell_type": "code",
   "execution_count": 25,
   "id": "52661ea1",
   "metadata": {},
   "outputs": [
    {
     "data": {
      "text/plain": [
       "[<a class=\"chart-name font-bold inline-block\" href=\"/songs/tyla-water/\"><!-- --><span class=\"movement-icon\"></span><span>WATER</span></a>,\n",
       " <a class=\"chart-name font-bold inline-block\" href=\"/songs/burna-boy-city-boys/\"><!-- --><span class=\"movement-icon\"></span><span>CITY BOYS</span></a>,\n",
       " <a class=\"chart-name font-bold inline-block\" href=\"/songs/tems-me-u/\"><!-- --><span class=\"movement-icon\"></span><span>ME &amp; U</span></a>,\n",
       " <a class=\"chart-name font-bold inline-block\" href=\"/songs/burna-boy-ft-dave-cheat-on-me/\"><!-- --><span class=\"movement-icon\"></span><span>CHEAT ON ME</span></a>,\n",
       " <a class=\"chart-name font-bold inline-block\" href=\"/songs/victor-thompsonehis-dgreatest-this-year-blessings/\"><span class=\"movement-icon text-brand-pink new text-xs md:text-sm w-auto !-left-3 uppercase\" title=\"New entry\">New</span><!-- --><span>THIS YEAR (BLESSINGS)</span></a>,\n",
       " <a class=\"chart-name font-bold inline-block\" href=\"/songs/omah-lay-holy-ghost/\"><span class=\"movement-icon text-brand-pink new text-xs md:text-sm w-auto !-left-3 uppercase\" title=\"New entry\">New</span><!-- --><span>HOLY GHOST</span></a>,\n",
       " <a class=\"chart-name font-bold inline-block\" href=\"/songs/nsglibiancajae5-tonight/\"><!-- --><span class=\"movement-icon movement-down\"></span><span>TONIGHT</span></a>,\n",
       " <a class=\"chart-name font-bold inline-block\" href=\"/songs/jayo-22/\"><span class=\"movement-icon text-brand-pink new text-xs md:text-sm w-auto !-left-3 uppercase\" title=\"New entry\">New</span><!-- --><span>22</span></a>,\n",
       " <a class=\"chart-name font-bold inline-block\" href=\"/songs/rema-dnd/\"><!-- --><span class=\"movement-icon movement-down\"></span><span>DND</span></a>,\n",
       " <a class=\"chart-name font-bold inline-block\" href=\"/songs/crayon-ayra-starr-ngozi/\"><!-- --><span class=\"movement-icon movement-down\"></span><span>NGOZI</span></a>,\n",
       " <a class=\"chart-name font-bold inline-block\" href=\"/songs/rema-dont-leave/\"><!-- --><span class=\"movement-icon movement-down\"></span><span>DON'T LEAVE</span></a>,\n",
       " <a class=\"chart-name font-bold inline-block\" href=\"/songs/amaarae-angels-in-tibet/\"><!-- --><span class=\"movement-icon movement-down\"></span><span>ANGELS IN TIBET</span></a>,\n",
       " <a class=\"chart-name font-bold inline-block\" href=\"/songs/j-hus-massacre/\"><!-- --><span class=\"movement-icon movement-down\"></span><span>MASSACRE</span></a>,\n",
       " <a class=\"chart-name font-bold inline-block\" href=\"/songs/odumodublvckbloody-civilian-blood-on-the-dance-floor/\"><!-- --><span class=\"movement-icon movement-down\"></span><span>BLOOD ON THE DANCE FLOOR</span></a>,\n",
       " <a class=\"chart-name font-bold inline-block\" href=\"/songs/fireboy-dml-oh-my/\"><span class=\"movement-icon text-brand-pink new text-xs md:text-sm w-auto !-left-3 uppercase\" title=\"New entry\">New</span><!-- --><span>OH MY</span></a>,\n",
       " <a class=\"chart-name font-bold inline-block\" href=\"/songs/tamera-40-days/\"><span class=\"movement-icon text-brand-pink new text-xs md:text-sm w-auto !-left-3 uppercase\" title=\"New entry\">New</span><!-- --><span>40 DAYS</span></a>,\n",
       " <a class=\"chart-name font-bold inline-block\" href=\"/songs/ayra-starr-rhythm-blues/\"><!-- --><span class=\"movement-icon movement-down\"></span><span>RHYTHM &amp; BLUES</span></a>,\n",
       " <a class=\"chart-name font-bold inline-block\" href=\"/songs/j-hus-ft-jorja-smith-nice-body/\"><!-- --><span class=\"movement-icon movement-down\"></span><span>NICE BODY</span></a>,\n",
       " <a class=\"chart-name font-bold inline-block\" href=\"/songs/kizz-daniel-my-g/\"><!-- --><span class=\"movement-icon movement-down\"></span><span>MY G</span></a>,\n",
       " <a class=\"chart-name font-bold inline-block\" href=\"/songs/jzynolasmid-butta-my-bread/\"><span class=\"movement-icon text-brand-pink new text-xs md:text-sm w-auto !-left-3 uppercase\" title=\"New entry\">New</span><!-- --><span>BUTTA MY BREAD</span></a>]"
      ]
     },
     "execution_count": 25,
     "metadata": {},
     "output_type": "execute_result"
    }
   ],
   "source": [
    "#We have a element with class chart-name that includes the song title as text inside a span\n",
    "cards3 = soup.find_all(\"a\", class_=\"chart-name\")\n",
    "cards3"
   ]
  },
  {
   "cell_type": "code",
   "execution_count": 26,
   "id": "7fbdbf96",
   "metadata": {},
   "outputs": [
    {
     "data": {
      "text/plain": [
       "<a class=\"chart-name font-bold inline-block\" href=\"/songs/tyla-water/\"><!-- --><span class=\"movement-icon\"></span><span>WATER</span></a>"
      ]
     },
     "execution_count": 26,
     "metadata": {},
     "output_type": "execute_result"
    }
   ],
   "source": [
    "cards3[0]"
   ]
  },
  {
   "cell_type": "code",
   "execution_count": 27,
   "id": "8c3b87fb",
   "metadata": {},
   "outputs": [
    {
     "name": "stdout",
     "output_type": "stream",
     "text": [
      "[' ', <span class=\"movement-icon\"></span>, <span>WATER</span>]\n"
     ]
    }
   ],
   "source": [
    "lst_span = []\n",
    "for span in cards3[0]:\n",
    "    lst_span.append(span)\n",
    "print(lst_span)"
   ]
  },
  {
   "cell_type": "code",
   "execution_count": 28,
   "id": "06b9c7d5",
   "metadata": {},
   "outputs": [
    {
     "data": {
      "text/plain": [
       "'WATER'"
      ]
     },
     "execution_count": 28,
     "metadata": {},
     "output_type": "execute_result"
    }
   ],
   "source": [
    "'''\n",
    "The info we need is inside the third span:\n",
    "First span: ' '\n",
    "Second span: <span class=\"movement-icon\"></span>\n",
    "Third span: <span>WATER</span>\n",
    "So we ask for the text of the third span, that has index=2\n",
    "'''\n",
    "lst_span[2].get_text() #That's our song title!"
   ]
  },
  {
   "cell_type": "code",
   "execution_count": 29,
   "id": "d99607b4",
   "metadata": {},
   "outputs": [
    {
     "data": {
      "text/plain": [
       "<a class=\"chart-artist text-lg inline-block\" href=\"/artist/tyla/\"><span>TYLA</span></a>"
      ]
     },
     "execution_count": 29,
     "metadata": {},
     "output_type": "execute_result"
    }
   ],
   "source": [
    "cards4 = soup.find_all(\"a\", class_=\"chart-artist\")\n",
    "cards4[0]"
   ]
  },
  {
   "cell_type": "code",
   "execution_count": 30,
   "id": "db75862b",
   "metadata": {},
   "outputs": [
    {
     "data": {
      "text/plain": [
       "'TYLA'"
      ]
     },
     "execution_count": 30,
     "metadata": {},
     "output_type": "execute_result"
    }
   ],
   "source": [
    "cards4[0].span.get_text()"
   ]
  },
  {
   "cell_type": "code",
   "execution_count": 31,
   "id": "741a2bc5",
   "metadata": {},
   "outputs": [],
   "source": [
    "artists_new = []\n",
    "songs_new= []\n",
    "\n",
    "\n",
    "for card in cards3:\n",
    "    lst_span = []\n",
    "    for span in card:\n",
    "        lst_span.append(span)\n",
    "    new_song = lst_span[2].get_text()\n",
    "    songs_new.append(new_song)\n",
    "\n",
    "    \n",
    "for card in cards4:\n",
    "    new_artist = card.span.get_text()\n",
    "    artists_new.append(new_artist)"
   ]
  },
  {
   "cell_type": "code",
   "execution_count": 32,
   "id": "d00d7833",
   "metadata": {},
   "outputs": [
    {
     "name": "stdout",
     "output_type": "stream",
     "text": [
      "['WATER', 'CITY BOYS', 'ME & U', 'CHEAT ON ME', 'THIS YEAR (BLESSINGS)', 'HOLY GHOST', 'TONIGHT', '22', 'DND', 'NGOZI', \"DON'T LEAVE\", 'ANGELS IN TIBET', 'MASSACRE', 'BLOOD ON THE DANCE FLOOR', 'OH MY', '40 DAYS', 'RHYTHM & BLUES', 'NICE BODY', 'MY G', 'BUTTA MY BREAD']\n",
      "['TYLA', 'BURNA BOY', 'TEMS', 'BURNA BOY FT DAVE', 'VICTOR THOMPSON/EHIS DGREATEST', 'OMAH LAY', 'NSG/LIBIANCA/JAE5', 'JAYO', 'REMA', 'CRAYON & AYRA STARR', 'REMA', 'AMAARAE', 'J HUS', 'ODUMODUBLVCK/BLOODY CIVILIAN', 'FIREBOY DML', 'TAMERA', 'AYRA STARR', 'J HUS FT JORJA SMITH', 'KIZZ DANIEL', 'JZYNO/LASMID']\n"
     ]
    }
   ],
   "source": [
    "print(songs_new)\n",
    "print(artists_new)"
   ]
  },
  {
   "cell_type": "code",
   "execution_count": 33,
   "id": "a119508a",
   "metadata": {},
   "outputs": [
    {
     "data": {
      "text/html": [
       "<div>\n",
       "<style scoped>\n",
       "    .dataframe tbody tr th:only-of-type {\n",
       "        vertical-align: middle;\n",
       "    }\n",
       "\n",
       "    .dataframe tbody tr th {\n",
       "        vertical-align: top;\n",
       "    }\n",
       "\n",
       "    .dataframe thead th {\n",
       "        text-align: right;\n",
       "    }\n",
       "</style>\n",
       "<table border=\"1\" class=\"dataframe\">\n",
       "  <thead>\n",
       "    <tr style=\"text-align: right;\">\n",
       "      <th></th>\n",
       "      <th>artist</th>\n",
       "      <th>song</th>\n",
       "    </tr>\n",
       "  </thead>\n",
       "  <tbody>\n",
       "    <tr>\n",
       "      <th>0</th>\n",
       "      <td>TYLA</td>\n",
       "      <td>WATER</td>\n",
       "    </tr>\n",
       "    <tr>\n",
       "      <th>1</th>\n",
       "      <td>BURNA BOY</td>\n",
       "      <td>CITY BOYS</td>\n",
       "    </tr>\n",
       "    <tr>\n",
       "      <th>2</th>\n",
       "      <td>TEMS</td>\n",
       "      <td>ME &amp; U</td>\n",
       "    </tr>\n",
       "    <tr>\n",
       "      <th>3</th>\n",
       "      <td>BURNA BOY FT DAVE</td>\n",
       "      <td>CHEAT ON ME</td>\n",
       "    </tr>\n",
       "    <tr>\n",
       "      <th>4</th>\n",
       "      <td>VICTOR THOMPSON/EHIS DGREATEST</td>\n",
       "      <td>THIS YEAR (BLESSINGS)</td>\n",
       "    </tr>\n",
       "    <tr>\n",
       "      <th>5</th>\n",
       "      <td>OMAH LAY</td>\n",
       "      <td>HOLY GHOST</td>\n",
       "    </tr>\n",
       "    <tr>\n",
       "      <th>6</th>\n",
       "      <td>NSG/LIBIANCA/JAE5</td>\n",
       "      <td>TONIGHT</td>\n",
       "    </tr>\n",
       "    <tr>\n",
       "      <th>7</th>\n",
       "      <td>JAYO</td>\n",
       "      <td>22</td>\n",
       "    </tr>\n",
       "    <tr>\n",
       "      <th>8</th>\n",
       "      <td>REMA</td>\n",
       "      <td>DND</td>\n",
       "    </tr>\n",
       "    <tr>\n",
       "      <th>9</th>\n",
       "      <td>CRAYON &amp; AYRA STARR</td>\n",
       "      <td>NGOZI</td>\n",
       "    </tr>\n",
       "    <tr>\n",
       "      <th>10</th>\n",
       "      <td>REMA</td>\n",
       "      <td>DON'T LEAVE</td>\n",
       "    </tr>\n",
       "    <tr>\n",
       "      <th>11</th>\n",
       "      <td>AMAARAE</td>\n",
       "      <td>ANGELS IN TIBET</td>\n",
       "    </tr>\n",
       "    <tr>\n",
       "      <th>12</th>\n",
       "      <td>J HUS</td>\n",
       "      <td>MASSACRE</td>\n",
       "    </tr>\n",
       "    <tr>\n",
       "      <th>13</th>\n",
       "      <td>ODUMODUBLVCK/BLOODY CIVILIAN</td>\n",
       "      <td>BLOOD ON THE DANCE FLOOR</td>\n",
       "    </tr>\n",
       "    <tr>\n",
       "      <th>14</th>\n",
       "      <td>FIREBOY DML</td>\n",
       "      <td>OH MY</td>\n",
       "    </tr>\n",
       "    <tr>\n",
       "      <th>15</th>\n",
       "      <td>TAMERA</td>\n",
       "      <td>40 DAYS</td>\n",
       "    </tr>\n",
       "    <tr>\n",
       "      <th>16</th>\n",
       "      <td>AYRA STARR</td>\n",
       "      <td>RHYTHM &amp; BLUES</td>\n",
       "    </tr>\n",
       "    <tr>\n",
       "      <th>17</th>\n",
       "      <td>J HUS FT JORJA SMITH</td>\n",
       "      <td>NICE BODY</td>\n",
       "    </tr>\n",
       "    <tr>\n",
       "      <th>18</th>\n",
       "      <td>KIZZ DANIEL</td>\n",
       "      <td>MY G</td>\n",
       "    </tr>\n",
       "    <tr>\n",
       "      <th>19</th>\n",
       "      <td>JZYNO/LASMID</td>\n",
       "      <td>BUTTA MY BREAD</td>\n",
       "    </tr>\n",
       "  </tbody>\n",
       "</table>\n",
       "</div>"
      ],
      "text/plain": [
       "                            artist                      song\n",
       "0                             TYLA                     WATER\n",
       "1                        BURNA BOY                 CITY BOYS\n",
       "2                             TEMS                    ME & U\n",
       "3                BURNA BOY FT DAVE               CHEAT ON ME\n",
       "4   VICTOR THOMPSON/EHIS DGREATEST     THIS YEAR (BLESSINGS)\n",
       "5                         OMAH LAY                HOLY GHOST\n",
       "6                NSG/LIBIANCA/JAE5                   TONIGHT\n",
       "7                             JAYO                        22\n",
       "8                             REMA                       DND\n",
       "9              CRAYON & AYRA STARR                     NGOZI\n",
       "10                            REMA               DON'T LEAVE\n",
       "11                         AMAARAE           ANGELS IN TIBET\n",
       "12                           J HUS                  MASSACRE\n",
       "13    ODUMODUBLVCK/BLOODY CIVILIAN  BLOOD ON THE DANCE FLOOR\n",
       "14                     FIREBOY DML                     OH MY\n",
       "15                          TAMERA                   40 DAYS\n",
       "16                      AYRA STARR            RHYTHM & BLUES\n",
       "17            J HUS FT JORJA SMITH                 NICE BODY\n",
       "18                     KIZZ DANIEL                      MY G\n",
       "19                    JZYNO/LASMID            BUTTA MY BREAD"
      ]
     },
     "execution_count": 33,
     "metadata": {},
     "output_type": "execute_result"
    }
   ],
   "source": [
    "data_afrobeats = pd.DataFrame(zip(artists_new, songs_new), columns=[\"artist\", \"song\"])\n",
    "data_afrobeats"
   ]
  },
  {
   "cell_type": "code",
   "execution_count": null,
   "id": "2b06119b",
   "metadata": {},
   "outputs": [],
   "source": [
    "#I finished The Afrobeats Scraping with Sandras help. To check her very detailed explanation, you'll find another notebook\n",
    "#with the name regina_scraping."
   ]
  }
 ],
 "metadata": {
  "kernelspec": {
   "display_name": "Python 3 (ipykernel)",
   "language": "python",
   "name": "python3"
  },
  "language_info": {
   "codemirror_mode": {
    "name": "ipython",
    "version": 3
   },
   "file_extension": ".py",
   "mimetype": "text/x-python",
   "name": "python",
   "nbconvert_exporter": "python",
   "pygments_lexer": "ipython3",
   "version": "3.11.4"
  }
 },
 "nbformat": 4,
 "nbformat_minor": 5
}
